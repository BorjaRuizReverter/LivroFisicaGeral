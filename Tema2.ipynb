{
 "cells": [
  {
   "cell_type": "markdown",
   "metadata": {},
   "source": [
    "# TEMA 2: Funções."
   ]
  },
  {
   "cell_type": "markdown",
   "metadata": {},
   "source": [
    "### 1. Introdução\n",
    "No capítulo anterior estudamos como a Física é construida a partir das grandezas físicas e a partir das relações entre elas. Efetivamente, cada área da Física, emprega um conjunto específico de grandezas físicas e procura extrair ditas relações. Por exemplo, na área de cinemática, é usado o tempo, a posição, a velocidade e a aceleração e as asociações entre essas grandezas físicas. Desta maneira, sabemos que para um movimento retilineo com aceleração constante (a), acontece que a $v = v_0 + a \\cdot t $, onde $v_0$ é a velocidade do corpo quanto o tempo é zero e $v$ é a velocidade do corpo quanto o tempo é $t$. Já na área da dinâmica são usadas grandezas físicas como a massa, a aceleração, a força, etc... e a partir dai podemos montar relações como $ F = m \\cdot a $.\n",
    "\n",
    "Como vemos, as grandezas físicas se relacionam entre elas. Ou dito de outra maneira mais técnica, entre as grandezas físicas emergem **relações funcionais**. Ou seja, uma grandeza física pode ser **função** de outra ou de outras. Especificamente, se sabemos que $v = v_0 + a \\cdot t $, isso implica que a velocidade do corpo depende do tempo, já que nessa equação, tanto $v_0$ quanto $a$ são constantes do movimento, ou seja, números fixos que não variam. Por isso, a relação acima pode ser também expressa como $ v = v(t) = v_0 + a \\cdot t $, para deixar explicito que, efetivamente, a velocidade é função do tempo.\n",
    "\n",
    "Neste capítulo estudaremos as funções. Ou seja, como são as relações entre as grandezas físicas implicadas. Só que o faremos usando a linguaguem da matemática e portanto não falaremos de grandezas físicas, se não de varíaveis, as quais denotaremos como $x$, $y$ ou $z$, sendo $a$, $b$, $c$, etc,... as constantes. Também, ao contrário de em Física, não diremos que certa grandeza física como a velocidade é função do tempo, ou seja, $v = v(t)$, se não que certa varíavel $y$ é função de $x$, ou seja, $y=f(x)$.\n"
   ]
  },
  {
   "cell_type": "markdown",
   "metadata": {},
   "source": [
    "### 2. O que é uma função?\n",
    "Em Matemática, uma função é basicamente uma **transformação**. Isso quer dizer que cada input, ou valor de entrada, chamado x, transforma-se numa saída, ou output, chamado y, através da função. Tal esquema seria algo assim:\n",
    "> $x \\hspace{0.2cm} \\underrightarrow{f} \\hspace{0.2cm} y$\n",
    "\n",
    "Mas a notação típica é\n",
    ">$y = f(x)$\n",
    "\n",
    "que é lido como \"$y$ é função de $x$\". \n",
    "\n",
    "Isso implica que existe uma ordem ou hierarquia, pois é como varíavel $x$ com a qual fazemos algo para obter $y$ e não ao contrário. Ou dito de outra maneira, a varíavel $y$ depende de qual seja $x$. É por isso que afirmamos que $x$ é a **variável independente**, já que somos livres na hora de escolher ela, mas $y$ se diz que é a **varíavel dependente** porque seu valor está atrelado ao valor de $x$ e a como a função diga como realizar tal transformação. \n",
    "\n",
    "Uma função, portanto, é uma transformação de um conjunto de valores de entrada, chamado **dominio da função**, em outro conjunto de valores de saída, chamado de **imagem da função**. Visto dessa maneira, falando de conjuntos, ao invés de valores individuais seria algo assim:\n",
    "> $dominio \\hspace{0.2cm} \\underrightarrow{f} \\hspace{0.2cm} imagem$\n",
    "\n",
    "O dominio ou a imagem de uma função típicamente consiste no conjunto dos números reais $\\mathcal{R}$, mas as vezes pode estar formado por apenas um subconjunto do mesmo, ou ainda o conjunto dos números complexos $\\mathcal{C}$ ou um subconjunto dele. Por exemplo, a função $f(x) = 2x +1$ possui um dominio que abrange todos os números reais, já que é lícito colocar qualquer número real no lugar de x. Já no caso da função logaritmica, $y = \\log x$, o dominio dessa função só abrange os numeros reais positivos, já que a função logaritmica não está definida para os números reais negativos. Respeito à imagem da função, no caso da função $f(x) = 2x +1$, observamos que podemos obter qualquer número $y$ e, portanto, a ima\n"
   ]
  },
  {
   "cell_type": "markdown",
   "metadata": {},
   "source": [
    "### 2. Representando de uma função\n",
    "Dado que os valores de entrada de uma função, a chamada varíavel $x$, ao se tratar da varíavel independente, pode tomar livremente qualquer valor, podemos tirar proveito disso para saber o que devolve a função em alguns pontos. Essa técnica de averiguar certos outputs simples, a partir também de certos inputs simples é o que se conhece como **tabela de valores**, a partir da qual podemos ter uma ideia da forma da função ou, pelo menos, da forma da função em certos lugares do seu dominio. Em alguns casos, a partir de uma tabela de valores podemos ainda levantar o **gráfico da função**. \n",
    "\n",
    "Para construir uma tabela de valores colocamos simplesmente duas colunas, onde na primeira colocamos os valores que queremos dar à coordenada independente e na segunda colocamos a coordenada dependente, ou seja, qual foi a resposta da função.\n",
    "\n",
    "Tomemos como exemplo a função anterior: $f(x) = 2x +1$, e demos valores simples a x, por exemplo, 0, 1, 2 e 3. A resposta da função está na segunda coluna:\n",
    "\n",
    "|  x  |  y  |\n",
    "|:--: |:---: |\n",
    "| 0 | 1 |\n",
    "| 1 | 3 |\n",
    "| 2 | 5 |\n",
    "| 3 | 7 |\n",
    "\n"
   ]
  },
  {
   "cell_type": "markdown",
   "metadata": {},
   "source": []
  }
 ],
 "metadata": {
  "kernelspec": {
   "display_name": "Python 3.10.2 64-bit",
   "language": "python",
   "name": "python3"
  },
  "language_info": {
   "codemirror_mode": {
    "name": "ipython",
    "version": 3
   },
   "file_extension": ".py",
   "mimetype": "text/x-python",
   "name": "python",
   "nbconvert_exporter": "python",
   "pygments_lexer": "ipython3",
   "version": "3.10.2"
  },
  "orig_nbformat": 4,
  "vscode": {
   "interpreter": {
    "hash": "369f2c481f4da34e4445cda3fffd2e751bd1c4d706f27375911949ba6bb62e1c"
   }
  }
 },
 "nbformat": 4,
 "nbformat_minor": 2
}
