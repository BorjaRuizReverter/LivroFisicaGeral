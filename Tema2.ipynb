{
 "cells": [
  {
   "cell_type": "markdown",
   "metadata": {},
   "source": [
    "# TEMA 2: Funções."
   ]
  },
  {
   "cell_type": "markdown",
   "metadata": {},
   "source": [
    "### 1. Introdução\n",
    "Na capítulo anterior estudamos que as grandezas físicas são os tijolos da Física, pois, de um ponto de vista analítico, a Física consiste em estabelecer relações entre grandezas físicas. Estas grandezas físicas podem ser de dois tipos: constantes, as quais não mudam no tempo, ou variáveis. "
   ]
  },
  {
   "cell_type": "markdown",
   "metadata": {},
   "source": [
    "### 1. O que é uma função?\n",
    "Em Matemática, uma função é uma associação entre duas variáveis. Isso quer dizer que a cada valor de um número, chamemos-o de x, associa-se um outro, chamado y, e a maneira em que dita associação é feita é o que se conheçe como função. Tal esquema seria algo assim:\n",
    "> x $ \\underrightarrow{f} $ y "
   ]
  }
 ],
 "metadata": {
  "kernelspec": {
   "display_name": "Python 3.10.2 64-bit",
   "language": "python",
   "name": "python3"
  },
  "language_info": {
   "codemirror_mode": {
    "name": "ipython",
    "version": 3
   },
   "file_extension": ".py",
   "mimetype": "text/x-python",
   "name": "python",
   "nbconvert_exporter": "python",
   "pygments_lexer": "ipython3",
   "version": "3.10.2"
  },
  "orig_nbformat": 4,
  "vscode": {
   "interpreter": {
    "hash": "369f2c481f4da34e4445cda3fffd2e751bd1c4d706f27375911949ba6bb62e1c"
   }
  }
 },
 "nbformat": 4,
 "nbformat_minor": 2
}
