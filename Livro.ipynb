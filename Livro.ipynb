{
 "cells": [
  {
   "cell_type": "markdown",
   "metadata": {},
   "source": [
    "# TEMA 1: Grandezas físicas e unidades. Notação científica e álgebra de notações científicas"
   ]
  },
  {
   "cell_type": "markdown",
   "metadata": {},
   "source": [
    "### 1. Introdução\n",
    "A física é uma ciência experimental. Toda ciência experimental consiste na observação. Os físicos observam os entes da Natureza ou os fenômenos protagonizados por estes para, a partir deles construir uma explicação teorica baseada na lógica, isto é, na matemática. A matemática é portanto a linguagem da física, e por ende, a linguagem da Natureza. "
   ]
  },
  {
   "cell_type": "markdown",
   "metadata": {},
   "source": [
    "A Física não é e nunca será uma ciência completa ou acabada. Os entes da Natureza atuam dentro de escala particular de tempo e espaço. Porem, se aprofundamos o estudo destes entes diminuindo dita escala, observa-se que o mesmo ente se dilui em outros entes, dos quais o primeiro se compõe, em um processo que pode ser repetido infinitamente*. Analogamente, ao estudar este ente em escalas maiores observa-se que o mesmo forma parte de uma estrutura maior, a qual também não tem por que ter limite. A estrutura da Natureza, portanto, são como as camadas de uma cebola: partes (ou entes) que se compõem de outras partes, que se compõem de outras partes, que se compõem de outras partes..."
   ]
  },
  {
   "cell_type": "markdown",
   "metadata": {},
   "source": [
    "Em qualquer caso, no nivel de estudo desta disciplina de física básica, isso não deve nos preocupar, pois os entes da escala de tempo e espacio que usaremos será aquela particular da nossa vida cotidiana, asociada, como veremos a um tipo especial de sistema de unidades.  "
   ]
  },
  {
   "cell_type": "markdown",
   "metadata": {},
   "source": [
    "### 2. Grandezas físicas\n",
    "\n",
    "Deixando de lado a estrutura da Natureza (mas tenendo-a em conta caso aprofundemos no estudo da Física), uma pergunta que cabe é: se a Física é uma ciência baseada na observação da Natureza, o que observamos? E como observamos? A observação consiste em comparar o objeto observado com outros objetos conhecidos através de suas propriedades qualitativas (QUALIS). Por exemplo, se o objeto desconhecido que observamos move-se como algo familiar a um cachorro, come como um cachorro e late como um cachorro então concluimos que esse objeto é com alta probabilidade um cachorro, e não, digamos, um gato. E chegamos a essa conclusão simplesmente porque o ente, a priori desconhecido, possui as qualidades de outro conhecido: um cachorro. Esta abordagem parace absurda, mas é o que nosso cérebro faz para reconher objetos ou fenômenos desconhecidos. Os algarismos de AI (Artificial Intelligence), tão usados hoje em dia, estão de fato baseados nessa ideia: comparar as qualidades de objetos novos, recolhidos por uma câmara, para depois etiqueta-los e tomar a decisão de se o objeto é conhecido, graças ao treinamento do algoritmo, ou não. "
   ]
  },
  {
   "cell_type": "markdown",
   "metadata": {},
   "source": [
    "O problema na hora de identificar as qualidades dos objetos é que estas qualidades podem ser de dois tipos: objetivas ou subjetivas. As qualidades subjetivas dependem do sujeito que identifica essa qualidade, enquanto que as qualidades objetivas não. Por exemplo, é claro que a altura de um cachorro é uma qualidade objetiva, pois qualquer individio, seja ele brasileiro, chinese ou um morador de outro planeta, vai concordar na mesma observação da altura. Propriedades como a altura, a massa, a velocidade, a resistência elétrica, o volume ou a temperatura do cachorro são claramente qualidades objetivas e estas as chamamos grandezas físicas. Por outro lado, qualidades como o cheiro, a alegria ou o carinho são subjetivas, pois estas são avaliadas diferentemente por cada individuo. "
   ]
  },
  {
   "cell_type": "markdown",
   "metadata": {},
   "source": [
    "Esta separação entre qualidades objetivas e subjetivas porem é fundamental e provoca um claro cisma entre o que é conhecimento universal e verdadeiro e o que não é. As qualidades objetivas são os tijolos da Ciência. As qualidades subjetivas são os tijolos de outras áreas pseudo-cientificas, a pesar de que estas se orgulhem de se chamar também de Ciências, quando não são.  "
   ]
  },
  {
   "cell_type": "markdown",
   "metadata": {},
   "source": [
    "### 3. Padrões e incertezas inerentes\n",
    "\n",
    "Para transformar a observação da Natureza em informação objetiva repoduzível por outra pessoa devemos medir, e medir é comparar. Ou seja, ao medir estaremos compararando a qualidade objetiva de nosso objeto de estudo com a mesma qualidade de outro objeto padrão conhecido. Por exemplo, se quiser reportar para outra pessoa no Brasil qual é altura do cachorro em questão posso usar notas de 10 reais colocadas em horizontal e contar (QUANTIS) qual seria a altura do cachorro em notas deitadas. Desta maneira, posso declarar, por exemplo, que a altura do chachorro problema é de algo mais de 5 notas de 10 reais deitadas, mas não chega a 6. \n",
    "\n",
    "Mas foram 5 notas ou 6 notas? A altura está mais perto de 5 ou de 6 notas? Podemos ser mais precisos? Sim e não. Poderiamos por exemplo usar outro objeto padrão (ou padrão diretamente) como por exemplo um dedo. Assim poderiamos voltar a medir a altura do chachorro usando o padrão polegadas e afirmar que ele mede algo entre 25 e 26 polegadas. Mas foram 25 ou 26 polegadas? Então, vemos agora que, mesmo mudando o padrão, sempre vamos ter essa incerteza, a qual por outro lado é inerente ao processo de medida. Medir implica errar, mas esse erro pode ser estudado dentro do campo da física experimental, a qual fica fora de nosso escopo. No que repeita a este texto de Física Geral, diremos por exemplo que altura de um objeto é 25 polegadas, ou 25.4 ou 25.43, ou 25.437 a pesar de que em todos os casos, o último algarismo seja sempre incerto. Para contornar esse problema inerente às medidas, alguns livros de Física reportam os números como 25.0 polegadas, ou 25.40, ou 25.430, ou 25.4370, querendo dizer que todos os algarismos diante do zero são certos e o único incerto é o zero. \n",
    "\n",
    "Voltando aos padrões usados para medir, notas de 10 reais deitadas e as polegadas, observe-se como ambas apresentam problemas. O primeiro só pode ser usado no Brasil enquanto que o segundo é um padrão que depende do observador, pois cada pessoa tem um dedo diferente. Ao usar estes padrões voltamos a cair na subjetividade inicial e isso representa um problema. Então, o lógico é usar padrões que sejam universais e invariáveis, e que também sejam reproduzíveis por qualquer um que deseje usá-lo.  \n",
    "\n",
    "\n"
   ]
  },
  {
   "cell_type": "markdown",
   "metadata": {},
   "source": [
    "Observe-se que nessa afirmação há implicita duas informações: o QUANTIS, indicando explicitamete pelo número de notas de 10 reais, e o QUALIS, indicado implicitamente pelo objeto padrão que foi usado para medir, neste caso, de novo, a nota de 10 reais deitada. Então, note-se que ao dizer qual é objeto padrão (ou padrão diretamente) que foi usado para medir, já implicitamente estou informando a grandeza física usada:  altura (comprimento).\n",
    "\n",
    "Dito de outro modo, as propriedades qualitativas objetivas podem ser medidas por exemplo usando algum outro objeto padrão (polegadas, pés, notas de 10 reais colocadas em vertical,...) e essa informação, junto com a informação do objeto padrão que foi usado para medir, pode ser repasada para outra pessoa, a qual podría reproduzir subsequentemente qual seria a altura do cachorro em questão. Por exemplo, poderiamos medir que a altura de um cachorro A é de 3 notas de dez reais deitadas e que a altura de um chachorro B é de 5 notas de dez reais deitadas. Dessa maneira, mediante a medição, poderiamos comparar os valores de uma determinada grandeza física e concluir objetivamente que o cachorro A é mais alto que o cachorro B."
   ]
  },
  {
   "cell_type": "markdown",
   "metadata": {},
   "source": [
    "Concluimos pois, que para descrever a Natureza devemos usar um dupla de informações dada pelo QUALIS (uma qualidade objetiva) e pelo QUANTIS (as vezes que essa qualidade objetiva se repete quando comparada com um padrão de medida). Desta maneira, em Física todos os números serão expresos, por exemplo, da seguinte forma:\n",
    "$$25 pol$$\n",
    "onde $pol$ faz referencia ao QUALIS que estamos medendo (neste caso um comprimento), junto com o padrão que estamos usando para medir esse comprimento (neste caso polegadas) e o número $25$ faz referencia ao número de vezes que o padrão usado para medir comprimento se repete. "
   ]
  },
  {
   "cell_type": "markdown",
   "metadata": {},
   "source": [
    "É importante resaltar aqui um vizio muito comum nos aluno iniciantes em Física, o qual consiste em fornecer apenas o número e não o padrão que foi usado para medir tal número. Observe-se que  "
   ]
  },
  {
   "cell_type": "markdown",
   "metadata": {},
   "source": [
    "### 4. Sistemas de unidades\n",
    "Como vimos anteriormente, podemos usar qualquer objeto padrão para medir, mas existem uns padrões melhores que outros. Para diminuir o grau de incerteza na medição e aumentar o rigor convem usar padrões universáis, invaríaveis e facilmente reproduzíveis. Chegados neste ponto, a questão é: quem estabelece o melhor padrão? Por que um padrão específico e não outro? Com qual criterio?\n",
    "\n",
    "Não existe um criterio absoluto e objetivo para estabelecer os melhores padrões. Por isso, a única saída possível é chegar a um consenso através de uma convenção. Um dos convenios mais conhecidos é a Conférence générale des poids et mesures, encarregada de avaliar e gerir o conjunto de padrões mais usado: o Sistema Internacional Unidades.  \n",
    "\n",
    "O Sistema Internacional de Unidades (S.I. em diante) está atualmente formado por 7 unidades fundamentais, das quais se derivam o resto das unidades conhecidas, chamadas por isso unidades derivadas.  "
   ]
  },
  {
   "cell_type": "markdown",
   "metadata": {},
   "source": [
    "#### 4.1 Unidades fundamentais\n",
    "Na tabela 1 se encontram as 7 unidades fundamentais junto com suas grandezas físicas associadas. \n",
    "\n",
    "| Grandeza Física  | Abreviatura   | Unidade   | Abreviatura  |\n",
    "| :--------------: | :-------: | :-------: | :------: |\n",
    "| Tempo | t | segundo | s |\n",
    "| Comprimento | l, r, x, y, z, ... [^note] | metro | m |\n",
    "| Massa | m | quilograma | kg|\n",
    "| Temperatura | T | kelvin | K |\n",
    "| Quantidade de materia | n | mol | mol |\n",
    "| Intensidade de corrente elétrica | i | ampere | A |\n",
    "| Intensidade luminosa | I<sub>v</sub> | cândela | cd |\n",
    "\n",
    "TABELA 1: Listagem das 7 unidades fundamentais junto com sua grandeza física asociada.\n",
    "\n",
    "[^note]: nose\n"
   ]
  },
  {
   "cell_type": "markdown",
   "metadata": {},
   "source": [
    "#### 4.2 Unidades derivadas\n",
    "Na tabela 2 se expõem algumas unidades derivadas e suas grandezas físicas correspondentes.\n",
    "\n",
    "TABELA 2"
   ]
  },
  {
   "cell_type": "markdown",
   "metadata": {},
   "source": [
    "#### 4.2 Outros sistemas de unidades\n",
    "\n",
    "O Sistema Internacional de Unidades é praticamente usado em todos os paises do mundo. Porem, ele não o único. Além deste sistema existem outros que foram criados por convêniencia ou foram mantidos e estandarizados por tradição.  "
   ]
  },
  {
   "cell_type": "markdown",
   "metadata": {},
   "source": [
    "Por exemplo, no sistema inglês de unidades usam-se as polegadas ou os pés, as jardas ou a milha para medir comprimento ou a libra para medir massa. Já no sistema americano "
   ]
  }
 ],
 "metadata": {
  "kernelspec": {
   "display_name": "Python 3",
   "language": "python",
   "name": "python3"
  },
  "language_info": {
   "codemirror_mode": {
    "name": "ipython",
    "version": 3
   },
   "file_extension": ".py",
   "mimetype": "text/x-python",
   "name": "python",
   "nbconvert_exporter": "python",
   "pygments_lexer": "ipython3",
   "version": "3.7.3"
  }
 },
 "nbformat": 4,
 "nbformat_minor": 2
}
