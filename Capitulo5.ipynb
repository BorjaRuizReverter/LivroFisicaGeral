{
 "cells": [
  {
   "cell_type": "markdown",
   "metadata": {},
   "source": [
    "# CAPÍTULO 5. Vetores\n",
    "\n",
    "## 5.1 Introdução\n",
    "Quando estudamos as grandezas físicas fizemos uma importante divisão entre as grandezas físicas fundamentais e as grandezas físicas derivadas. Essa divisão foi fundamental para entender como as segundas surgem a partir de operações matemáticas das primeiras. Entretanto, existe outra divisão importante ao respeito da natureza matemática das tais grandezas físicas.\n",
    "\n",
    "\n",
    "\n",
    "<!-- A comunicação é vital para o avanço da humanidade. E nessa comunicação não pode haver ambiguidades. Podemos ainda visualizar **a comunicação** como um ente abstrato que se auto-organiza, com o intuito de se tornar cada vez mais eficiente, no sentido de ser cada vez mais claro e conciso no seu propósito. Isso afeta a todas as áreas de conhecimento (Gramática, Linguística, Química, Biologia,...) incluída, claro, a Física. -->\n",
    "\n",
    "<!-- Entendamos tudo com o exemplo. Imagine-se que os técnicos da NASA precisem efetuar um acoplamento de aeronaves. Para isso duas das grandezas físicas das aeronaves envolvidas devem coincidir: suas posições e suas velocidades. Nessa manobra, é habitual que tal acoplamento seja realizado através de uma ligeira envestida da aeronave que vem pela parte traseira. Nesse acoplamento, por tanto, a distância radial respeito do centro da Terra deve ser a mesma para que as naves estejam na mesma órbita antes da envestida. \n",
    "\n",
    "Não há ambiguidades ao comunicar para alguém a informação de que uma mosca se encontra, por exemplo, a uma altura de $10m$ em algum instante de tempo específico. Mas sim há ambiguidades ao transmitir a informação de que ela se desloca com a velocidade de, por exemplo, $1m/s$.  -->\n",
    "\n"
   ]
  },
  {
   "cell_type": "markdown",
   "metadata": {},
   "source": []
  }
 ],
 "metadata": {
  "kernelspec": {
   "display_name": "Python 3.10.2 64-bit",
   "language": "python",
   "name": "python3"
  },
  "language_info": {
   "name": "python",
   "version": "3.10.2"
  },
  "orig_nbformat": 4,
  "vscode": {
   "interpreter": {
    "hash": "369f2c481f4da34e4445cda3fffd2e751bd1c4d706f27375911949ba6bb62e1c"
   }
  }
 },
 "nbformat": 4,
 "nbformat_minor": 2
}
