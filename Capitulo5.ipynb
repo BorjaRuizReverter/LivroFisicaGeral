{
 "cells": [
  {
   "cell_type": "markdown",
   "metadata": {},
   "source": [
    "# CAPÍTULO 5. Vetores\n",
    "\n",
    "## 5.1 Introdução\n",
    "Quando estudamos as grandezas físicas fizemos uma importante divisão entre as grandezas físicas fundamentais e as grandezas físicas derivadas. Essa divisão foi fundamental para entender como as segundas surgem a partir de operações matemáticas das primeiras. Entretanto, existe outra divisão importante ao respeito da natureza matemática das tais grandezas físicas.\n",
    "\n",
    "Algumas grandezas físicas como a massa, a pressão ou a energia cinética apenas precisam de um número para serem completamente definidas. Entretanto, não é suficiente expressar outras grandezas físicas como a posição, velocidade, a aceleração ou a força apenas como um número porque faltaria informação ao respeito de para onde essa força é aplicada. \n",
    "\n",
    "Existe, portanto, uma divisão clara entre as primeiras grandezas físicas e as segundas. As primeiras se denominam **grandezas físicas escalares** porque são construídas apenas com um escalar, i.e., um número. Já as segundas se denominam **grandezas físicas vetoriais** porque além de um escalar, que habitualmente se chamará **módulo do vetor**, também precisam da **direção da reta que contém o vetor**, ou simplesmente **direção do vetor** e do sentido em que percorremos essa reta, ou simplesmente **sentido do vetor**.\n",
    "\n",
    "Para definir uma grandeza física vetorial precisamos de vários números, tantos quanto a dimensão do espaço do problema em questão. Tais números são chamados de **componentes do vetor**, onde cada uma está associada a uma dimensão do espaço. Assim, a posição de, por exemplo, uma mosca no espaço 3D num instante determinado pode ser descrita por um vetor composto por uma lista de 3 componentes. Já a posição de um disco de hóquei no plano 2D num instante específico pode ser descrito por uma lista de duas componentes. Enquanto a posição de uma pessoa andando por um corredor muito estreito pode ser descrita apenas por uma componente. É por isso que, ao se tratar de espaço de unidimensional, podemos entender as grandezas físicas vetoriais como se fossem escalares.\n",
    "\n",
    "Tudo o anterior pode ser resumido a:\n",
    "> componentes do vetor = (dimensão do espaço)$^1$\n",
    "\n",
    "Existem, porém, outras grandezas físicas chamadas grandezas físicas tensoriais ou, simplesmente, tensores, as quais precisam de ainda mais números para serem definidas. De fato, os tensores precisam de um número de componentes igual à dimensão do espaço em questão elevado ao quadrado:\n",
    "> componentes do tensor = (dimensão do espaço)$^2$\n",
    "\n",
    "Por exemplo, num espaço de 3D um tensor teria 9 componentes, o qual é tratado como uma matriz 3x3. Os tensores são grandezas físicas importantes em áreas como física de materiais ou relatividade. Entretanto, não as estudaremos neste livro.\n",
    "\n",
    "Para diferenciar uma grandeza física vetorial de outra escalar é habitual escrever uma pequena seta acima da letra que representa a mesma. Por exemplo, já que velocidade, aceleração ou força são grandezas físicas vetoriais, elas se escreverão assim: $\\vec{v}$, $\\vec{a}$ e $\\vec{F}$.\n",
    "\n",
    "## 5.2 Vetores do ponto de vista geométrico\n",
    "De maneira análoga a como fizemos em outros capítulos, podemos usar um plano cartesiano para visualizar um vetor qualquer, ao qual chamaremos de $\\vec{a}$. Do ponto de vista geométrico um vetor é simplesmente uma seta, a qual tem as 3 propriedades anteriormente descritas:\n",
    "1. Módulo, que seria o comprimento da seta e que tipicamente se denota por $|\\vec{a}|$, ou diretamente $a$.\n",
    "2. Direção, dada pelo ângulo que a reta que contém a seta forma com a horizontal.\n",
    "3. Sentido, dada pela cabeça da seta, a qual indica para onde percorremos a reta anterior."
   ]
  },
  {
   "cell_type": "code",
   "execution_count": 36,
   "metadata": {},
   "outputs": [
    {
     "data": {
      "image/png": "[encoded data removed]",
      "text/plain": [
       "<Figure size 432x288 with 1 Axes>"
      ]
     },
     "metadata": {
      "needs_background": "light"
     },
     "output_type": "display_data"
    }
   ],
   "source": [
    "import matplotlib.pyplot as plt\n",
    "\n",
    "ax = plt.axes()\n",
    "ax.arrow(3,4, 4,4 , head_width=0.5, head_length=0.5)\n",
    "\n",
    "x = [0, 10]\n",
    "y = [1, 11]\n",
    "plt.plot(x, y, marker='', color='black', linestyle=\"--\")\n",
    "\n",
    "x = [0, 10]\n",
    "y = [2, 2]\n",
    "plt.plot(x, y, marker='', color='black', linestyle=\"--\")\n",
    "\n",
    "plt.ylim(0,10)\n",
    "plt.xlim(0,10)\n",
    "\n",
    "plt.subplot(111).annotate(r\"$ \\vec{a} $\", xy=(3, 3), xytext=(4, 6), size = 20)\n",
    "plt.subplot(111).annotate(\"Módulo\", xy=(3, 3), xytext=(5, 5))\n",
    "plt.subplot(111).annotate(\"Sentido\", xy=(3, 3), xytext=(7, 7))\n",
    "plt.subplot(111).annotate(\"Direção (ângulo)\", xy=(3, 3), xytext=(2, 2.4))\n",
    "\n",
    "plt.show()"
   ]
  },
  {
   "cell_type": "markdown",
   "metadata": {},
   "source": [
    "## 5.2 Álgebra vetorial\n",
    "Da mesma maneira que fizemos ao estudar notação científica, agora que sabemos o que é um vetor, podemos realizar operações entre eles.\n",
    "\n",
    "### 5.2.1 Soma vetorial\n",
    "\n",
    "### 5.2.1 Subtração vetorial"
   ]
  }
 ],
 "metadata": {
  "kernelspec": {
   "display_name": "Python 3.10.2 64-bit",
   "language": "python",
   "name": "python3"
  },
  "language_info": {
   "codemirror_mode": {
    "name": "ipython",
    "version": 3
   },
   "file_extension": ".py",
   "mimetype": "text/x-python",
   "name": "python",
   "nbconvert_exporter": "python",
   "pygments_lexer": "ipython3",
   "version": "3.10.2"
  },
  "orig_nbformat": 4,
  "vscode": {
   "interpreter": {
    "hash": "369f2c481f4da34e4445cda3fffd2e751bd1c4d706f27375911949ba6bb62e1c"
   }
  }
 },
 "nbformat": 4,
 "nbformat_minor": 2
}
