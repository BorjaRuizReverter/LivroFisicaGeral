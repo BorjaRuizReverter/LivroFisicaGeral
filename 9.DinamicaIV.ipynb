{
 "cells": [
  {
   "cell_type": "markdown",
   "metadata": {},
   "source": [
    "# CAPÍTULO 9. Dinâmica IV (Energia potencial e conservação da energia)\n",
    "\n",
    "## 1. Introdução\n",
    "Nos \n",
    "\n",
    "## 2. Campos escalares\n",
    "Resulta muito interessante observar a Natureza, e particularmente, como acontece o movimento em algun fenómenos físicos simples. Analisemos alguns deles:\n",
    "1. Um rio transporta água sem custo algúm, ou seja, da maneira **espontânea**. Durante esse processo, a água é movimentada de lugares mais altos ($y_1$) a lugares mais baixos ($y_2$). Massas de água estão compostas por infinidade de moléculas, mas qualquer corpo, tratado por nós como pontos com massa, no seno de um campo gravitacional segue o mesmo principio: todo corpo se move espontaneamente, ou tem o potencial de se mover, desde lugares altos a lugares baixo. \n",
    "2. O vento consiste em massas de ar que se deslocam nas proximidades da superfície terrestre devido a uma diferencia de pressões. Dada essa diferência, o ar se desloca espontaneamente dos lugares de pressões altas para os lugares de pressões baixas. \n",
    "3. A respiração humana consiste na troca de moléculas que acontece nos alveolos pulmonares, durante a qual a corrente sanguinea se carrega de oxigênio. Essa troca é feita de graça, ou seja, sem custo energético, pois durante a mesma o oxigênio é trocado desde lugares onde a concentração ($c$) é muito alta ($c_1$) para lugares onde a concentração é baixa.\n",
    "4. A corrente elétrica\n",
    "5. O calor é uma troca de energia que, espontaneamente, acontece desde lugares quentes aos lugares frios. \n",
    "\n",
    "\n",
    "Repare-se o principio comúm a todos esses fenômenos. Em primeiro lugar, vemos que o espaço tem certas particularidades, às quais podemos associar\n",
    "\n",
    "está preenchido por partículas, às quais podemos associar determinadas propriedades através de uma alguma **grandeza física escalar** partícular. Por exemplo, a \n",
    "\n",
    "grandtemos o que se conhece como **campo escalar**, ou seja, \n"
   ]
  },
  {
   "cell_type": "markdown",
   "metadata": {},
   "source": []
  }
 ],
 "metadata": {
  "kernelspec": {
   "display_name": "Python 3.10.6 64-bit",
   "language": "python",
   "name": "python3"
  },
  "language_info": {
   "name": "python",
   "version": "3.10.6"
  },
  "orig_nbformat": 4,
  "vscode": {
   "interpreter": {
    "hash": "916dbcbb3f70747c44a77c7bcd40155683ae19c65e1c03b4aa3499c5328201f1"
   }
  }
 },
 "nbformat": 4,
 "nbformat_minor": 2
}
