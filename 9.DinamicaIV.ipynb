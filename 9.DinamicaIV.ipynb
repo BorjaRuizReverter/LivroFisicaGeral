{
 "cells": [
  {
   "cell_type": "markdown",
   "metadata": {},
   "source": [
    "# CAPÍTULO 9. Dinâmica IV (Energia potencial e conservação da energia)\n",
    "\n",
    "## 1. Introdução\n",
    "No capítulo anterior começamos a estudar o movimento de um ponto de vista diferente. Particularmente, vimos como se um sistema (o corpo de estudo) ganha velocidade foi porque a vizinhança transmitiu alguma substância para o corpo. Da maneira análoga, se um sistema perdeu velocidade foi porque este foi quem transmitiu essa substância para a vizinhança. Tal substância era a energia cinética, e através do trabalho, vimos como o corpo podia ganhar ou perder energia cinética.\n",
    "\n",
    "Uma analogia interessante pode ser pensar que a energia cinética é como trocar dinheiro. De fato, você, por exemplo, pode receber dinheiro da vizinhança trocando com ela algum produto ou serviço. Ou, de maneira contrária, o dinheiro pode sair da sua conta bancária ao trocar este por algum produto ou serviço da vizinhança. De este ponto de vista, o **dinheiro trocado seria equivalente aos intercâmbios de energia cinética** entre o sistema e a vizinhança, estudados no capítulo anterior.\n",
    "\n",
    "Entretanto, aprofundando nessa mesma analogia, rapidamente entendemos que se você pode trocar dinheiro com a vizinhança foi por que, previamente, você tinha dinheiro poupado, ou digamos, guardado. E dinheiro guardado não é igual que dinheiro trocado. Vemos, portanto, que, voltando à Física, faltam detalhes que expliquem o equivalente a esse fato de \"ter dinheiro acumulado\".\n",
    "\n",
    "Em Física, o equivalente a esse dinheiro acumulado será a **energia potencial**, pois ter dinheiro guardado te provê o **potencial** de, como ele, poder trocá-lo por algo. A energia cinética, um novo tipo de energia, diferente da energia cinética, que o corpo tem estocada, devido a alguma configuração entre este e seu entorno, e a qual poderia ser liberada em determinadas condições. Veremos que esta energia também está relacionada com o trabalho, mas apenas com o trabalho de algumas forças particulares, chamadas **forças conservativas**.\n",
    "\n",
    "Finalmente, a análise das quais são forças conservativas, e quais não, nos deixará em condições de estabelecer um dos teoremas mais importantes da Física: a **conservação da energia**. Graças ao teorema de conservação, entenderemos, agora sim, como a energia, como acontece com o dinheiro, pode ser acumulado ou trocado, e não cabe outra possibilidade, pois ele não desaparece do seu balanço.\n",
    "\n",
    "O teorema de conservação da energia será o *climax* da Dinâmica, a qual foi começada 3 capítulos atrás. Trata-se de um conceito fundamental em Física, pois graças a esse entendimento de que certas grandezas físicas escalares podem ser conservadas, o avanço da Física foi enorme. Visualizar a Física desde es\n",
    "\n",
    "## 2. Campos escalares\n",
    "Resulta muito interessante observar a Natureza, e particularmente, como acontece o movimento no caso de alguns fenômenos físicos simples. Analisemos alguns deles:\n",
    "- Um rio transporta água sem custo algum, ou seja, da maneira **espontânea**. Durante esse processo, a água é movimentada de lugares mais altos ($y_1$) a lugares mais baixos ($y_2$). Massas de água estão compostas por infinidade de moléculas, mas qualquer corpo, tratado por nós como pontos com massa, no seno de um campo gravitacional segue o mesmo principio: todo corpo se move espontaneamente, ou tem o potencial de se mover, desde lugares altos a lugares baixo. \n",
    "- O vento consiste em massas de ar que se deslocam nas proximidades da superfície terrestre devido a uma diferença de pressões. Dada essa diferença, o ar se desloca espontaneamente dos lugares de pressões altas para os lugares de pressões baixas. \n",
    "- A respiração humana consiste na troca de moléculas que acontece nos alvéolos pulmonares, durante a qual a corrente sanguínea se carrega de oxigênio. Essa troca é feita de graça, ou seja, sem custo energético, pois durante a mesma o oxigênio é trocado desde lugares onde a concentração ($c$) é muito alta ($c_1$) para lugares onde a concentração é baixa.\n",
    "- A corrente elétrica\n",
    "- O calor é uma troca de energia que, espontaneamente, acontece desde lugares quentes aos lugares frios. \n",
    "\n",
    "\n",
    "Repare-se no princípio comum a todos esses fenômenos. Em primeiro lugar, vemos que o espaço tem certas particularidades, às quais podemos associar\n",
    "\n",
    "Prestando atenção a fenômenos como os descritos podemos extrair certas similaridades. \n",
    "1. O espaço, ou as partículas que o preenchem, têm certas propriedades, as quais se conhecem como **campos**. Essas propriedades estão diretamente associadas a **grandezas físicas escalares**. Sendo assim, podemos visualizar o espaço como se estivesse preenchido por vários **campos escalares**. Isto é, cada ponto de espaço, possui algum valor de alguma dessas grandezas físicas escalares, por exemplo, uma temperatura, uma pressão, uma concentração de algum determinado gás, uma altura respeito da superfície, etc...\n",
    "2. O movimento surge como consequência da diferença de valores entre dois pontos do espaço de alguma dessas grandezas físicas escalares. O movimento que emerge é um transporte de partículas com massa, ou uma transferência da energia que as partículas possuem. Como tal transporte consiste num número enorme de partículas, ou na energia delas, e não apenas um corpo só, é habitual falar de **fluxo**, ao invés de usar o conceito habitual de força, já que força é algo que sente cada partícula individualmente.\n",
    "3. Esse movimento é diretamente proporcional à diferença dos valores do campo escalar e inversamente proporcional à distância entre tais valores. Ou seja, teremos movimentos muito rápidos quando a diferença de um escalar determinado entre dois pontos que forem muito próximos é grande e, contrariamente, teremos movimentos muito lentos quando tal diferença, entre pontos muito espaçados, é pequena.\n",
    "4. O movimento acontece na direção onde se encontra essa diferença de valores do campo escalar. Porém, o sentido é contrário. Isto é, se \"caminhamos\" no espaço desde os valores do campo escalar pequenos para os valores do campo escalar grandes, o movimento aconteceria no sentido contrário, pois tal fluxo emerge para, precisamente, eliminar diferenças.\n",
    "\n",
    "Dadas essas observações, devemos sintetizar tudo numa equação analítica. Uma primeira tentativa seria:\n",
    "$$\\vec{f} = -c \\frac{e_2 - e_1}{x_2 - x_1}\\hat{i}$$\n",
    ", onde $\\vec{f}$ seria o vetor fluxo, pois ele tem um módulo, uma direção e um sentido, $c$ uma constante de proporcionalidade e $e$ o valor do campo escalar num determinado ponto $x$ do espaço ao longo de uma linha horizontal na direção de um hipotético eixo X. Podemos rescrever a expressão de maneira mais sintética:\n",
    "$$\\vec{f} = -c \\frac{\\Delta e}{\\Delta x}\\hat{i}$$\n",
    "Entretanto, o movimento não tem porque ser ao longo do eixo X. De fato, num espaço de três dimensões, o fluxo pode ser para qualquer direção e sentido. Então: \n",
    "$$\\vec{f} = -c (\\frac{\\Delta e}{\\Delta x}\\hat{i} + \\frac{\\Delta e}{\\Delta y}\\hat{j} + \\frac{\\Delta e}{\\Delta z}\\hat{k})$$\n",
    "Por outro lado, do ponto de vista matemático não é totalmente certo definir vetores a partir de intervalos espaciais, pois os vetores estão definidos em pontos, não em imtervalos. Para isso, deveriamos tomar intervalos infinitamente estreitos, alías, intervalos diferenciais. Mas como temos várias variáveis espaciais envolvidas os intervalos diferenciais devem ser parciais. Isto é:\n",
    "$$\\vec{f} = -c (\\frac{\\partial e}{\\partial x}\\hat{i} + \\frac{\\partial e}{\\partial y}\\hat{j} + \\frac{\\partial e}{\\partial z}\\hat{k})$$\n",
    "Ou, de outra maneira,\n",
    "$$\\vec{f} = -c (\\frac{\\partial}{\\partial x}\\hat{i} + \\frac{\\partial}{\\partial y}\\hat{j} + \\frac{\\partial}{\\partial z}\\hat{k})e$$\n",
    "Isso quer dizer que aplicamos o vetor que está entre parêntese ao campo escalar partícular objeto de interesse. Esse vetor é muito importante em matemáticas, tanto que ele tem um nome próprio. Ele é chamado de vetor gradiente, cujo valor, em coordenadas cartesianas, seria o seguinte por definição:\n",
    "$$\\vec{\\nabla} \\equiv \\frac{\\partial}{\\partial x}\\hat{i} + \\frac{\\partial}{\\partial y}\\hat{j} + \\frac{\\partial}{\\partial z}\\hat{k}$$\n",
    "O vetor gradiente é um vetor definido dessa maneira, ou seja, a partir das derivadas espaciais de alguma função escalar, à qual se aplica. \n",
    "\n",
    "Usando a notação do vetor gradiente, finalmente, obtemos que:\n",
    "$$\\boxed{\\tag{*}\\vec{f} = - c \\vec{\\nabla}e}$$\n"
   ]
  },
  {
   "cell_type": "markdown",
   "metadata": {},
   "source": []
  }
 ],
 "metadata": {
  "kernelspec": {
   "display_name": "Python 3.10.2 64-bit",
   "language": "python",
   "name": "python3"
  },
  "language_info": {
   "name": "python",
   "version": "3.10.2"
  },
  "orig_nbformat": 4,
  "vscode": {
   "interpreter": {
    "hash": "369f2c481f4da34e4445cda3fffd2e751bd1c4d706f27375911949ba6bb62e1c"
   }
  }
 },
 "nbformat": 4,
 "nbformat_minor": 2
}
