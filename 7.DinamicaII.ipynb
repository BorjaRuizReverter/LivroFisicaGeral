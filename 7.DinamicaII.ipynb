{
 "cells": [
  {
   "cell_type": "markdown",
   "metadata": {},
   "source": [
    "# CAPÍTULO 6. Dinâmica II (Forças de atrito)\n",
    "\n",
    "## 1. Introdução\n",
    "Chegados a este ponto sabemos bastante sobre o movimento. Em base à Dinâmica, sabemos como se inicia, por que, por quem, e a partir desse início, em base à Cinemática, poderíamos descrever a posição e velocidade do corpo em questão em cada instante de tempo. Sendo assim, poderíamos pensar que sabemos tudo do movimento, mas, na realidade, o que sabemos apenas responde a exemplos ideais, os quais não correspondem com situações da vida real.\n",
    "\n",
    "Pensemos num movimento simples como a queda de um bloco através de um plano inclinado sem atrito, como já foi analisado no capítulo anterior. Uma vez que o bloco é liberado do repouso, ele cai pelo plano com uma aceleração que é determinada pela Segunda Lei de Newton. Essa aceleração pode ser colocada nas equações de um movimento com aceleração constante e, a partir daí, podemos determinar com que velocidade atinge o final do plano. O bloco poderia realizar também o movimento contrário. Poderíamos usar para isso uma mola. Dessa maneira, ao chegar ao final do plano, a mola se encargaria de fornecer uma velocidade inicial, a mesma velocidade com a qual chegou, porém, em sentido contrário, para que o bloco suba pelo plano. Curiosamente, essa velocidade inicial fornecida pela mola seria a suficiente para que o bloco subisse pelo plano até a posição de onde partiu. E, sendo assim, segundo foi descrito, o bloco estaria caindo pelo plano e voltando a sua posição inicial infinitamente *per saecula saeculorum*.\n",
    "\n",
    "Efetivamente, esse experimento mental pode ser detalhado perfeitamente com tudo o que foi estudado até agora. Entretanto, sabemos que isso não acontece na vida real. O motivo é que os movimentos como esse, chamados em Física de **motos perpétuos**, não existem. Como vemos, realmente falta informação para definitivamente passar de uma Física ideal, ou Física matemática, que foi a estudada até agora, a uma Física real.\n",
    "\n",
    "Os motos perpétuos apresentam esse problema também de outro ponto de vista. De fato, nesse tipo movimento infinito do bloco caindo pelo plano sem atrito e voltando a subir graças a uma mola não há uma **direção no tempo**. Isto é, se esse movimento fosse gravado com uma câmara de video reproduzido para frente e para atrás, não poderíamos afirmar qual deles é o movimento real. Mas isso não é o que acontece novamente na vida real, onde claramente o tempo sempre avança para frente, pois tudo ao nosso redor envelhece, se estraga ou enferruja de maneira irreversível.\n",
    "\n",
    "É precisamente isso, o fato de que na Natureza todos os processos são irreversíveis, para o que devemos dar uma explicação. A maior parte dessa Física forma parte do ramo chamado Termodinâmica, o qual está fora de nosso escopo. Entretanto, estudaremos aqui a parte que ainda pertence à Dinâmica, pois ela envolve o uso de uma forças novas, as quais representam a peça que falta para construir os pilares desta Física real: as **forças de atrito**.\n",
    "\n",
    "## 2. Forças de atrito\n",
    "\n",
    "Pensemos em que acontece durante alguma experiência simples como arrastrar um bloco pesado sobre uma superfície qualquer. Analisemos separando em várias situações.\n",
    "1. Inicialmente, aplica-se uma força $\\vec{F}$ pequena sobre o bloco, porém observamos que ele não se movimenta. Se o bloco não se move é porque sua aceleração vale zero e, nesse caso, a soma das forças que atuam no bloco é zero (Primeira Lei de Newton). Sendo assim, deve existir uma força que anule a força $\\vec{F}$, com a qual bloco está sendo empurrado. Essa força é que chamamos **força de atrito estática**, e se denota por $\\vec{f_s}$, onde o subscrito $s$ vem do grego *static*. Para compreender de onde surge a força de atrito estática é necessário entrar no nível molecular das superfícies dos corpos que estão em contato. Observe-se na <mark >figura *</mark> como, microscopicamente, as superfícies dos corpos em contato não são realmente lisas; elas de fato estão cheias de irregularidades.\n",
    "\n",
    "2. Queremos que o bloco comece a andar. Para isso, aumentamos o módulo da força $\\vec{F}$. Entretanto, observa-se que o bloco ainda não se move. Estamos então igual que na situação anterior. A única diferença é que, para que haja equilíbrio, o módulo da força de atrito estática deve aumentar na mesma proporção que aumentou o módulo da força $\\vec{F}$.\n",
    "3. Tentamos mais uma vez. Voltamos a aumentar o módulo da força $\\vec{F}$ até sentir que o bloco vai começar seu movimento. Neste ponto ainda o bloco continua parado, mas está na iminência de se mover. Dado que sua aceleração é ainda zero, a força $\\vec{F}$ se equilibra com a força de atrito, mas esta atingiu seu valor máximo e, por isso, é chamada de **força de atrito estática máxima** $\\vec{f}_{s,max}$\n",
    "\n",
    "4. A pouco que seja aumentada a força $\\vec{F}$ o bloco, repentinamente, inicia seu movimento através de uma aceleração, a qual emerge de um desequilíbrio de forças. De fato, a força de atrito estática máxima foi vencida. Neste ponto, o bloco se move, mas o atrito continua existindo. Este atrito associado ao movimento vem exercido através da chamada **força de atrito cinética**, a qual se denota por $\\vec{f_k}$, onde o subscrito $k$ vem do grego *kinetic*. Para explicar porque isso acontece devemos voltar ao mundo microscópico. Observe na <mark >figura *</mark> como, para o corpo deslizar sobre a superfície, as irregularidades são amaciadas, ou ainda, partes são quebradas. Esse fato é interessante, pois nos corpos em contato produzem-se mudanças irreversíveis.\n",
    "\n",
    "5. Nessas situações em que um bloco é arrastado através de uma superfície, é comum aplicar uma força $\\vec{F}$ que vai em aumento até conseguir movimentar o bloco, mas uma vez que este entra em movimento, a força $\\vec{F}$ é reduzido até se igualar à força de atrito cinética. Desta maneira, produz-se um equilíbrio de forças e o bloco é arrastrado seguindo um M.R.U.\n",
    "\n",
    "Analisemos tudo o anterior através de um gráfico, representando o módulo da força de atrito em função do módulo da força $\\vec{F}$ (<mark >figura *</mark>). Observe, como, o módulo da força de atrito, nesse caso atrito estático, aumenta com a aumento do módulo da força $\\vec{F}$. A experiência nos diz que essa variação não segue uma função conhecida, pois tal variação depende fortemente da natureza das superfícies envolvidas. Sendo assim, não é possível modelar tal dependência através de uma equação analítica. Entretanto, o máximo da força de atrito estática pode sim ser modelada. De fato, a experiência confirma que o módulo de dita força é proporcional ao módulo da força normal através de um coeficiente chamado **coeficiente de atrito estático**:\n",
    "$$\\boxed{\\tag{*}f_{s,max} = \\mu_s \\cdot N}$$\n",
    "Quando a força de atrito estática máxima é superada a função sofre uma discontinuidade. A partir dai a força de atrito diminui tornandose uma força de atrito cinética, a qual também pode ser modelada através de uma equação. A experiência nos diz que o módulo da força de atrito cinético é também proporcional ao módulo da força normal, porém, através de um coeficiente diferente chamado **coeficiente de atrito cinético**:\n",
    "$$\\boxed{\\tag{*}f_{k} = \\mu_k \\cdot N}$$\n",
    "É importante observar que ambas as equações envolvem apenas os módulos das forças, pois claramente a força normal é perpendicular à qualquer força de atrito. \n",
    "\n",
    "Por último lugar, analisemos tudo o experimento anterior usando a Terceira Lei de Newton. Para isso, usamos a <mark >figura *</mark>, na qual foram colocadas as forças anteriores, como reações, além de suas reações. Observe-se como, se o bloco é empurrado com uma força $\\vec{F}$ por algo, ou por alguém, o bloco também deve exercer uma força oposta nele. Para diferenciar uma força da outra, coloquemos os dois subscritos, como tipicamente são usados na Terceira Lei de Newton. Então, supondo que uma pessoa exerce a força $\\vec{F}$ sobre o bloco, esta será denotada por $\\vec{F}_{PB}$. Agora, pela Terceira Lei de Newton, o bloco tem que exercer uma força de reação sobre a pessoa, a qual será $\\vec{F}_{BP}$. Esta força será a responsável de que a pessoa vá para atrás se o atrito com a superfície for pequeno (pode testar em casa empurrando contra algo pesado!). \n",
    "\n",
    "Em qualquer caso, voltando com o que acontece com o bloco. Por enquanto, se apenas atuasse a força $\\vec{F}_{PB}$, o bloco deveria acelerar. Sabemos que isso não acontece quando o módulo dessa força é pequeno devido à força de atrito estático. Essa força de atrito é exercida pela superfície contra o bloco e, portanto, será denotada como $\\vec{F}_{SB}$. Entretanto, se está a ação, a reação a essa força será $\\vec{F}_{BP}$. Ou seja, se a superfície puxa do bloco para atrás, sendo esta a ação, então o bloco, como reação, empurra a superfície para frente! \n",
    "\n",
    "## 3. Forças de arrastro\n",
    "\n",
    "## 4. Aplicações"
   ]
  },
  {
   "cell_type": "markdown",
   "metadata": {},
   "source": []
  }
 ],
 "metadata": {
  "kernelspec": {
   "display_name": "Python 3.10.2 64-bit",
   "language": "python",
   "name": "python3"
  },
  "language_info": {
   "name": "python",
   "version": "3.10.2"
  },
  "orig_nbformat": 4,
  "vscode": {
   "interpreter": {
    "hash": "369f2c481f4da34e4445cda3fffd2e751bd1c4d706f27375911949ba6bb62e1c"
   }
  }
 },
 "nbformat": 4,
 "nbformat_minor": 2
}
