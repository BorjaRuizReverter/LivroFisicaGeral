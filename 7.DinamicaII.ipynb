{
 "cells": [
  {
   "cell_type": "markdown",
   "metadata": {},
   "source": [
    "# CAPÍTULO 6. Dinâmica II (Forças de atrito)\n",
    "\n",
    "## 1. Introdução\n",
    "Chegados a este ponto sabemos bastante sobre o movimento. Em base à Dinâmica, sabemos como se inicia, por que, por quem, e a partir desse início, em base à Cinemática, poderíamos descrever a posição e velocidade do corpo em questão em cada instante de tempo. Sendo assim, poderíamos pensar que sabemos tudo do movimento, mas, na realidade, o que sabemos apenas responde a exemplos ideais, os quais não correspondem com situações da vida real.\n",
    "\n",
    "Pensemos num movimento simples como a queda de um bloco através de um plano inclinado sem atrito, como já foi analisado no capítulo anterior. Uma vez que o bloco é liberado do repouso, ele cai pelo plano com uma aceleração que é determinada pela Segunda Lei de Newton. Essa aceleração pode ser colocada nas equações de um movimento com aceleração constante e, a partir daí, podemos determinar com que velocidade atinge o final do plano. O bloco poderia realizar também o movimento contrário. Poderíamos usar para isso uma mola. Dessa maneira, ao chegar ao final do plano, a mola se encargaria de fornecer uma velocidade inicial, a mesma velocidade com a qual chegou, porém, em sentido contrário, para que o bloco suba pelo plano. Curiosamente, essa velocidade inicial fornecida pela mola seria a suficiente para que o bloco subisse pelo plano até a posição de onde partiu. E, sendo assim, segundo foi descrito, o bloco estaria caindo pelo plano e voltando a sua posição inicial infinitamente *per saecula saeculorum*.\n",
    "\n",
    "Efetivamente, esse experimento mental pode ser detalhado perfeitamente com tudo o que foi estudado até agora. Entretanto, sabemos que isso não acontece na vida real. O motivo é que os movimentos como esse, chamados em Física de **motos perpétuos**, não existem. Como vemos, realmente falta informação para definitivamente passar de uma Física ideal, ou Física matemática, que foi a estudada até agora, a uma Física real.\n",
    "\n",
    "Os motos perpétuos apresentam esse problema também de outro ponto de vista. De fato, nesse tipo movimento infinito do bloco caindo pelo plano sem atrito e voltando a subir graças a uma mola não há uma **direção no tempo**. Isto é, se esse movimento fosse gravado com uma câmara de video reproduzido para frente e para atrás, não poderíamos afirmar qual deles é o movimento real. Mas isso não é o que acontece novamente na vida real, onde claramente o tempo sempre avança para frente, pois tudo ao nosso redor envelhece, se estraga ou enferruja de maneira irreversível.\n",
    "\n",
    "É precisamente isso, o fato de que na Natureza todos os processos reais são irreversíveis, para o que devemos dar uma explicação. A maior parte dessa Física forma parte do ramo chamado Termodinâmica, o qual está fora de nosso escopo. Entretanto, estudaremos aqui a parte que ainda pertence à Dinâmica, pois ela envolve o uso de uma forças novas, as quais representam a peça que falta para construir os pilares desta Física real: as **forças de atrito**.\n",
    "\n",
    "## 2. Forças de atrito"
   ]
  }
 ],
 "metadata": {
  "kernelspec": {
   "display_name": "Python 3.10.2 64-bit",
   "language": "python",
   "name": "python3"
  },
  "language_info": {
   "name": "python",
   "version": "3.10.2"
  },
  "orig_nbformat": 4,
  "vscode": {
   "interpreter": {
    "hash": "369f2c481f4da34e4445cda3fffd2e751bd1c4d706f27375911949ba6bb62e1c"
   }
  }
 },
 "nbformat": 4,
 "nbformat_minor": 2
}
