{
 "cells": [
  {
   "attachments": {},
   "cell_type": "markdown",
   "metadata": {},
   "source": [
    "# CAPÍTULO 7. Dinâmica II (Aplicações reais das Leis de Newton)\n",
    "\n",
    "## 1. Introdução\n",
    "Chegados a este ponto sabemos bastante sobre o movimento. Em base à Dinâmica, sabemos como se inicia, por que, por quem, e a partir desse início, em base à Cinemática, poderíamos descrever a posição e velocidade do corpo em questão em cada instante de tempo. Sendo assim, poderíamos pensar que sabemos tudo do movimento, mas, na realidade, o que sabemos apenas responde a exemplos ideais, os quais não correspondem com situações da vida real.\n",
    "\n",
    "Pensemos num movimento simples como a queda de um bloco através de um plano inclinado sem atrito, como já foi analisado no capítulo anterior. Uma vez que o bloco é liberado do repouso, ele cai pelo plano com uma aceleração que é determinada pela Segunda Lei de Newton. Essa aceleração pode ser colocada nas equações de um movimento com aceleração constante e, a partir daí, podemos determinar com que velocidade atinge o final do plano. O bloco poderia realizar também o movimento contrário. Poderíamos usar para isso uma mola. Dessa maneira, ao chegar ao final do plano, a mola se encargaria de fornecer uma velocidade inicial, a mesma velocidade com a qual chegou, porém, em sentido contrário, para que o bloco suba pelo plano. Curiosamente, essa velocidade inicial fornecida pela mola seria a suficiente para que o bloco subisse pelo plano até a posição de onde partiu. E, sendo assim, segundo foi descrito, o bloco estaria caindo pelo plano e voltando a sua posição inicial infinitamente *per saecula saeculorum*.\n",
    "\n",
    "Efetivamente, esse experimento mental pode ser detalhado perfeitamente com tudo o que foi estudado até agora. Entretanto, sabemos que isso não acontece na vida real. O motivo é que os movimentos como esse, chamados em Física de **motos perpétuos**, não existem. Como vemos, realmente falta informação para definitivamente passar de uma Física ideal, ou Física matemática, que foi a estudada até agora, a uma Física real.\n",
    "\n",
    "Os motos perpétuos apresentam esse problema também de outro ponto de vista. De fato, nesse tipo movimento infinito do bloco caindo pelo plano sem atrito e voltando a subir graças a uma mola não há uma **direção no tempo**. Isto é, se esse movimento fosse gravado com uma câmara de video reproduzido para frente e para atrás, não poderíamos afirmar qual deles é o movimento real. Mas isso não é o que acontece novamente na vida real, onde claramente o tempo sempre avança para frente, pois tudo ao nosso redor envelhece, se estraga ou enferruja de maneira irreversível.\n",
    "\n",
    "É precisamente isso, o fato de que na Natureza todos os processos são irreversíveis, para o que devemos dar uma explicação. A maior parte dessa Física forma parte do ramo chamado Termodinâmica, o qual está fora de nosso escopo. Entretanto, estudaremos aqui a parte que ainda pertence à Dinâmica, pois ela envolve o uso de uma forças novas, as quais representam a peça que falta para construir os pilares desta Física real: as **forças de atrito**.\n",
    "\n",
    "## 2. Forças de atrito\n",
    "\n",
    "Pensemos em que acontece durante alguma experiência simples como arrastrar um bloco pesado sobre uma superfície qualquer. Analisemos separando em várias situações.\n",
    "1. Inicialmente, aplica-se uma força $\\vec{F}$ pequena sobre o bloco, porém observamos que ele não se movimenta. Se o bloco não se move é porque sua aceleração vale zero e, nesse caso, a soma das forças que atuam no bloco é zero (Primeira Lei de Newton). Sendo assim, deve existir uma força que anule a força $\\vec{F}$, com a qual bloco está sendo empurrado. Essa força é que chamamos **força de atrito estática**, e se denota por $\\vec{f_s}$, onde o subscrito $s$ vem do grego *static*. Para compreender de onde surge a força de atrito estática é necessário entrar no nível molecular das superfícies dos corpos que estão em contato. Observe-se na FIGURA * como, microscopicamente, as superfícies dos corpos em contato não são realmente lisas; elas de fato estão cheias de irregularidades.\n",
    "\n",
    "2. Queremos que o bloco comece a andar. Para isso, aumentamos o módulo da força $\\vec{F}$. Entretanto, observa-se que o bloco ainda não se move. Estamos então igual que na situação anterior. A única diferença é que, para que haja equilíbrio, o módulo da força de atrito estática deve aumentar na mesma proporção que aumentou o módulo da força $\\vec{F}$.\n",
    "3. Tentamos mais uma vez. Voltamos a aumentar o módulo da força $\\vec{F}$ até sentir que o bloco vai começar seu movimento. Neste ponto ainda o bloco continua parado, mas está na iminência de se mover. Dado que sua aceleração é ainda zero, a força $\\vec{F}$ se equilibra com a força de atrito, mas esta atingiu seu valor máximo e, por isso, é chamada de **força de atrito estática máxima** $\\vec{f}_{s,max}$\n",
    "\n",
    "4. A pouco que seja aumentada a força $\\vec{F}$ o bloco, repentinamente, inicia seu movimento através de uma aceleração, a qual emerge de um desequilíbrio de forças. De fato, a força de atrito estática máxima foi vencida. Neste ponto, o bloco se move, mas o atrito continua existindo. Este atrito associado ao movimento vem exercido através da chamada **força de atrito cinética**, a qual se denota por $\\vec{f_k}$, onde o subscrito $k$ vem do grego *kinetic*. Para explicar porque isso acontece devemos voltar ao mundo microscópico. Observe na FIGURA * como, para o corpo deslizar sobre a superfície, as irregularidades são amaciadas, ou ainda, partes são quebradas. Esse fato é interessante, pois nos corpos em contato produzem-se mudanças irreversíveis.\n",
    "\n",
    "5. Nessas situações em que um bloco é arrastado através de uma superfície, é comum aplicar uma força $\\vec{F}$ que vai em aumento até conseguir movimentar o bloco, mas uma vez que este entra em movimento, a força $\\vec{F}$ é reduzido até se igualar à força de atrito cinética. Desta maneira, produz-se um equilíbrio de forças e o bloco é arrastrado seguindo um M.R.U.\n",
    "\n",
    "Analisemos tudo o anterior através de um gráfico, representando o módulo da força de atrito em função do módulo da força $\\vec{F}$ (FIGURA *). Observe, como, dentro do que se conhece como **regime estático**, o módulo da força de atrito, nesse caso atrito estático, aumenta com a aumento do módulo da força $\\vec{F}$. A experiência nos diz que essa variação não segue uma função conhecida, pois tal variação depende fortemente da natureza das superfícies envolvidas. Sendo assim, não é possível modelar tal dependência através de uma equação analítica. Entretanto, o máximo da força de atrito estática pode sim ser modelada. De fato, a experiência confirma que o módulo de dita força é proporcional ao módulo da força normal através de um coeficiente chamado **coeficiente de atrito estático**:\n",
    "$$\\boxed{\\tag{*}f_{s,max} = \\mu_s \\cdot N}$$\n",
    "Quando a força de atrito estática máxima é superada a função sofre uma discontinuidade, entrando no se conhece como **regime cinético**. A partir dai a força de atrito diminui tornandose uma força de atrito cinética, a qual também pode ser modelada através de uma equação. A experiência nos diz que o módulo da força de atrito cinético é também proporcional ao módulo da força normal, porém, através de um coeficiente diferente chamado **coeficiente de atrito cinético**:\n",
    "$$\\boxed{\\tag{*}f_{k} = \\mu_k \\cdot N}$$\n",
    "É importante observar que ambas as equações envolvem apenas os módulos das forças, pois claramente a força normal é perpendicular à qualquer força de atrito. \n",
    "\n",
    "Por último lugar, analisemos tudo o experimento anterior sob a Terceira Lei de Newton. Para isso, usamos a FIGURA *, na qual foram colocadas as forças anteriores, como reações, além de suas reações. Observe-se como, se o bloco é empurrado com uma força $\\vec{F}$ por algo, ou por alguém, o bloco também deve exercer uma força oposta nele. Para diferenciar uma força da outra, coloquemos os dois subscritos, como tipicamente são usados na Terceira Lei de Newton. Então, supondo que uma pessoa exerce a força $\\vec{F}$ sobre o bloco, esta será denotada por $\\vec{F}_{PB}$. Agora, pela Terceira Lei de Newton, o bloco tem que exercer uma força de reação sobre a pessoa, a qual será $\\vec{F}_{BP}$. Esta força seria a responsável da pessoa ir para atrás se não houver atrito. Entretanto, devido ao atrito a superfície deve exercer uma força na pessoa para que esta não escorregue. Esta força de atrito estático seria $\\vec{F}_{SP}$, a qual deve ir para frente.\n",
    "\n",
    "Se apenas atuasse a força $\\vec{F}_{PB}$, o bloco deveria acelerar. Sabemos que isso não acontece quando o módulo dessa força é pequeno devido à força de atrito estático. Essa força de atrito é exercida pela superfície contra o bloco e, portanto, esta deverá ser $\\vec{F}_{SB}$. Entretanto, se está é a ação, a reação a essa força será $\\vec{F}_{BS}$. Ou seja, se a superfície puxa do bloco para atrás, sendo esta a ação, então o bloco, como reação, empurra a superfície para frente! Será que a Terra inteira gira a favor do relógio quando alguém empurra o bloco?\n",
    "\n",
    "Observe-se que acabamos de determinar que o bloco e a pessoa estão em equilíbrio, mas não foi esclarecido se a superfície também está em equilíbrio. Anteriormente, foi incluída a força de atrito estática que seria força que superfície exerce na pessoa $\\vec{F}_{SP}$, mas se essa é a ação, também deverá existir a reação, ou seja, a força que pessoa exerce na superfície $\\vec{F}_{PS}$. Esta força equilibra a força $\\vec{F}_{BS}$ e, portanto, a Terra não giraria ao empurrar o bloco. De fato, todos os corpos envolvidos estariam em equilíbrio.\n",
    "\n",
    "## 3. Irreversibilidade\n",
    "Como acabamos de explicar, em situações de equilíbrio nas quais forças de atrito estáticas estejam envolvidas, a Terceira Lei de Newton se aplica satisfatoriamente. Como veremos futuramente, como consequência da Terceira Lei de Newton, diremos que **a energia mecânica do sistema se conserva**. Entretanto, isso não acontece quando passamos de um regime estático a um regime dinâmico. De fato, supondo que o bloco do experimento anterior é empurrado com velocidade constante, o diagrama de corpo livre seria o representado na FIGURA *. Observe-se como, neste caso, \n",
    "\n",
    "## 4. Forças de arrasto\n",
    "Como vimos na primeira seção deste capítulo, quando um corpo é arrastado ao longo de um piso, sempre emerge uma força de atrito devido aos pontos em contato entre as superfícies sólidas envolvidas no movimento. Algo parecido também acontece, porém, quando um corpo se move no seno de um fluido como pode ser um líquido ou um gás como o ar. De fato, nessas condições, quando o corpo se move, milhares de átomos ou moléculas colidem com o bloco, o que claramente atrapalha o movimento. O número dessas colisões pode variar muito em função do tipo da superfície do corpo, e particularmente da sua velocidade, pois o próprio corpo ao escoar pelo fluido pode gerar turbulências, as quais alteram a densidade do fluido, produzindo regiões de pressões menores no fluido ao redor do corpo, o qual teria um efeito de sugar o corpo lateralmente ou para atrás durante tal movimento. \n",
    "\n",
    "Estudar tais colisões de maneira individual é matematicamente muito complicado, pois num fluido cada partícula interage com suas vizinhas e isso causa uma interdependência de umas partes do fluido com outras, beirando o **caos**, onde qualquer modelo microscópico se torna imprevisível.\n",
    "\n",
    "A maneira de estudar o escoamento de um corpo num fluido deve ser a partir de modelos macroscópicos, os quais funcionam adequadamente dentro de certas condições não-turbulentas. Um destes modelos é supor que a força de atrito dentro de um fluido, conhecida como força de arrastro (D, do inglês *Drag*) depende das características do próprio fluido e do corpo através da seguinte expressão:\n",
    "$$D = \\frac{1}{2}C\\rho A v^2$$\n",
    ", onde $C$ é o chamado **coeficiente de arrasto**, $\\rho$ é a densidade do fluido e $A$ é a **área efetiva do corpo**, ou seja, a área de uma seção transversal à velocidade $v$ do corpo.\n",
    "\n",
    "Um corpo em queda livre está realmente sobmetido a duas forças: a força peso, ou força gravitacional, e a força de arrasto. Aplicando a Segunda Lei de Newton para um corpo em queda livre, teriamos portanto:\n",
    "\n",
    "$$D - F_g = ma$$\n",
    "\n",
    "A força de arrasto depende da velocidade ao quadrado. Sendo assim, ela vai ser pequena quando o corpo começar a cair, mas vai crescer rapidamente quando o corpo começar a acelerar. Entretanto, a força de arrastro não pode aumentar infinitamente, pois se fosse assim, a força $D$ superaria à força de gravidade e o corpo subiria para cima ao invés de cair. A força de arrastro, de fato, atinge um limite, durante o qual equilibra à força de gravidade, o que implica que a aceleração de queda é zero. Nessa situação a queda acontece à velocidade constante, a qual é conhecida como **velocidade terminal**. Substituindo o valor de D na equação anterior e fazendo $a$ zero, obtemos o valor da velocidade terminal ($v_t$):\n",
    "$$v_t = \\sqrt{\\frac{2F_g}{C\\rho A}}$$\n",
    "\n",
    "<div style=\"padding: 15px; border: 1px solid transparent; border-color: transparent; margin-bottom: 20px; border-radius: 4px; color: #8a6d3b;; background-color: #fcf8e3; border-color: #faebcc;\">\n",
    "\n",
    "<b>Uma gota de chuva cai desde uma nuvem situada a 2km de altura respeito do chão. </b>\n",
    "\n",
    "</div>\n",
    "\n",
    "## 5. Forças elásticas\n",
    "Quando estudávamos as forças fundamentais, vimos como, das 4 forças fund Das forças fundamentais Resulta um tanto lógico \n",
    "No capítulo anterior foram introduzidas as 4 forças fundamentais da Natureza. Delas, dois eram particularmente importantes: a força gravitacional e a força elétrica, pois a partir delas, principalmente a última, emergem outras forças do dia a dia como a força normal ou a força de tensão. Estudamos também como a força gravitacional e a força elétrica possuem expressões parecidas (EQUAÇÃO *1 e *2). De fato, em ambos casos, a intensidade da força diminui com a distância, o qual, por outro lado, resulta um tanto lógico.\n",
    "\n",
    "Entretanto, em determinadas situações nas quais a partícula está presa, pode emerger um tipo de comportamento diferente com a distância como consequência das forças fundamentais envolvidas, tipicamente forças puramente elétricas ou magnéticas. Pense-se no caso específico das vibrações atómicas dentro de uma red cristalina. Nessa situação, o átomo está preso na rede, pois devido às repulsões elétricas, quando o mesmo tenta \n",
    "\n",
    "## 6. Aplicações"
   ]
  },
  {
   "cell_type": "markdown",
   "metadata": {},
   "source": []
  }
 ],
 "metadata": {
  "kernelspec": {
   "display_name": "Python 3",
   "language": "python",
   "name": "python3"
  },
  "language_info": {
   "name": "python",
   "version": "3.10.2 (tags/v3.10.2:a58ebcc, Jan 17 2022, 14:12:15) [MSC v.1929 64 bit (AMD64)]"
  },
  "orig_nbformat": 4,
  "vscode": {
   "interpreter": {
    "hash": "369f2c481f4da34e4445cda3fffd2e751bd1c4d706f27375911949ba6bb62e1c"
   }
  }
 },
 "nbformat": 4,
 "nbformat_minor": 2
}
