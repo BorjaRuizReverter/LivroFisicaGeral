{
 "cells": [
  {
   "cell_type": "markdown",
   "metadata": {},
   "source": [
    "## Prefacio"
   ]
  },
  {
   "cell_type": "markdown",
   "metadata": {},
   "source": [
    "Desde que comecei a trabalhar na universidade brasileira sempre me deparei com muitas dificuldades na hora de ministrar a disciplina de Física Geral para os calouros dos cursos de Agronomia e Biologia. A medida que foi conhecendo cada vez mais o contexto brasileiro entendi qual era o problema: os alunos ingressavam na universidade com graves deficiencias em matemática. Minhas conclusões foram contrastadas pelo informe PISA de 2018. \"Dois de cada três alunos brasileiros são analfabetos funcionais e não sabem nem o básico de matemáticas e isso não muda desde 2012 (pois os informes são de 3 em 3 anos)\". \n",
    "\n",
    "Infelizmente, percebi que essa era a realidade. De fato, nesses anos iniciais de docencia comprebei que os alunos do primeiro período universitário não sabiam absolutamente nada de cálculo integral ou diferencial, e nem se quer ouviram falar. Não sabiamm de funções, não sabiam de equações, nada de trigonometria, geometria e não sabiam nem levantar um gráfico. Não sabiam nada sobre matrizes, álgebra linear nem alto tão básico como isolar uma incógnita de uma equação de primeiro grau. Não sabiam transformar unidades, nem interpretar um problema de lógica e nem se quer fazer contas numéricas básicas, pois mal sabiam a tabuada de multiplicar. Para mim, vindo da Europa, e já tendo ministrado no ensino universitário espanhol, a cena era estarrecedora.\n",
    "\n",
    "Dado esse contexto, logo durante meus primeiros anos de docência no Brasil, reparei que o nível ao qual ministrava era alto demais. \"Demasiada matemática\", pensava. Decidi então mudar meus slides de aula no sentido de algo mais simplificado, mas percibi que não estava no caminho certo porque ao dispor de slides resumidos, os alunos não acudiam aos livros. Voltei então a mudar de estratégia, com o propósito de fazer o aluno entender a importância dos livros. Porém, quando estava nessa nova onda, me deparei com que não existiam livros adequados ao contexto do aluno brasileiro.\n",
    "\n",
    "Foi ai quando comecei a matutar a ideia de criar um livro próprio. Um livro diferente que contuvisse todas as ferramentas matemáticas imprescindíveis para, com elas, poder avançar no comprensão da Física. Inicialmente, descartei a ideia por ser um tanto anormal: \"um livro de Física com todos os detalhes sobre matemática?\" Mas depois de reparar que, aos poucos, para salvar as deficiências dos alunos, minhas aulas tinham se tornado dessa maneira, percivi que esa poderia ser a metodologia certa.\n",
    "\n",
    "Este livro, portanto, tem o propósito de servir de manual para fazer ao aluno lembrar, ou reforçar, assuntos que já deveria ter visto no ensino méio, para, a partir dai, ganhar o conhecimento adequado, e ainda a confiança necessária, para poder enfrentar os assuntos de Física. Para isso, as contas e os exemplos serão explicados em detalhe e desde um nível básico. Os conteúdos deste livro estão pensados para isso. Os mesmos estão divididos em 3 partes. Uma primeira parte introdutoria composta pelo Tema 1, no qual se explicam os fundamentos da física e da aritmética básica. Uma segunda parte de transição, composta pelos Temas 2, 3, 4 e 5, nos quais se avança nos assuntos matemáticos fundamentais para a disciplina. E uma terceira e última parte finalizante, que abrange desde o Tema 6 até o final, nos quais, tendo compreendido os assuntos anteriores sobre matemática, estaremos preparados para, por fim, avança na própria Física."
   ]
  }
 ],
 "metadata": {
  "kernelspec": {
   "display_name": "Python 3.10.2 64-bit",
   "language": "python",
   "name": "python3"
  },
  "language_info": {
   "name": "python",
   "version": "3.10.2"
  },
  "orig_nbformat": 4,
  "vscode": {
   "interpreter": {
    "hash": "369f2c481f4da34e4445cda3fffd2e751bd1c4d706f27375911949ba6bb62e1c"
   }
  }
 },
 "nbformat": 4,
 "nbformat_minor": 2
}
