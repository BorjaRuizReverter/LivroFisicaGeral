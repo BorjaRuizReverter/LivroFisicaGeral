{
 "cells": [
  {
   "cell_type": "markdown",
   "metadata": {},
   "source": [
    "## Prefacio"
   ]
  },
  {
   "cell_type": "markdown",
   "metadata": {},
   "source": [
    "Desde que comecei a trabalhar na universidade brasileira sempre me deparei com muitos problemas na hora de ministrar a disciplina de Física Geral para os calouros dos cursos de Agronomia e Biologia. Inicialmente, durante os primeiros anos, reparei que o nível ao qual ministrava era alto demais. \"Demasiada matemática\", pensava. Decidi então mudar meus slides de aula no sentido de algo mais simplificado, mas percibi que não estava no caminho correito porque ao dispor de slides resumidos os alunos não acudiam aos livros. Voltei então a mudar de estratégia, com o propósito do aluno entender a importância dos livros. Porém, quando estava nessa nova onda, me deparei com que não existia um livro aduquado para os alunos. Os livros de Física universitários posuiam um mível demasiado alto para os alunos e os de ensino méio tinham grandes faltas de rigor, como ignorar as unidades na hora de proceder com as contas. \n",
    "\n",
    "A medida que foi conhecendo cada vez mais o contexto brasileiro entendi qual era o problema: os alunos calouros ingressam na universidade com graves deficiencias em matemática. De que adiant <mark>CONTINUAR com post face</mark> \n",
    "\n",
    "\n",
    "Foi ai quando comecei a matutar a ideia de criar um livro próprio. Um livro diferente que contuvisse todas as ferramentas matemáticas imprescindíveis para, com elas, poder avançar no comprensão da Física. Inicialmente, descartei a ideia por ser um tanto anormal, mas depois de perceber que aos poucos já estava ministrar aula dessa maneira, vi que não tinha outra opção se não insistir nessa metodologia. "
   ]
  },
  {
   "cell_type": "markdown",
   "metadata": {},
   "source": []
  }
 ],
 "metadata": {
  "kernelspec": {
   "display_name": "Python 3.10.2 64-bit",
   "language": "python",
   "name": "python3"
  },
  "language_info": {
   "name": "python",
   "version": "3.10.2"
  },
  "orig_nbformat": 4,
  "vscode": {
   "interpreter": {
    "hash": "369f2c481f4da34e4445cda3fffd2e751bd1c4d706f27375911949ba6bb62e1c"
   }
  }
 },
 "nbformat": 4,
 "nbformat_minor": 2
}
