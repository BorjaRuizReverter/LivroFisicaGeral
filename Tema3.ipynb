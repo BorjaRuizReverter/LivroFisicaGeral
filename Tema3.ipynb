{
 "cells": [
  {
   "cell_type": "markdown",
   "metadata": {},
   "source": [
    "# TEMA 3: Fundamentos da geometria analítica e álgebra de equações.\n",
    "\n",
    "## 1. Introdução\n",
    "Provavelmente a maior lacuna dos alunos que ingressam na universidade é o fato de que não sabem isolar a incógnita de uma equação simples. Este capítulo está dedicado a isso. \n",
    "\n",
    "Isolar uma incógnita de uma equação não é mais que aplicar transformações na equação até conseguir nosso objetivo: deixar a incógnita à esquerda do igual e o resto á direita. Neste capítulo apresentaremos a teoria que fundamenta tais transformações, a geometria analítica, para com isso, aprender a isolar qualquer variável."
   ]
  }
 ],
 "metadata": {
  "kernelspec": {
   "display_name": "Python 3.10.2 64-bit",
   "language": "python",
   "name": "python3"
  },
  "language_info": {
   "name": "python",
   "version": "3.10.2"
  },
  "orig_nbformat": 4,
  "vscode": {
   "interpreter": {
    "hash": "369f2c481f4da34e4445cda3fffd2e751bd1c4d706f27375911949ba6bb62e1c"
   }
  }
 },
 "nbformat": 4,
 "nbformat_minor": 2
}
