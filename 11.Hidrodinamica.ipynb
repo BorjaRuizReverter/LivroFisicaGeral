{
 "cells": [
  {
   "attachments": {},
   "cell_type": "markdown",
   "metadata": {},
   "source": [
    "# CAPÍTULO 11. Hidrodinâmica\n",
    "\n",
    "## 1. Introdução\n",
    "No capítulo anterior iniciamos o estudo dos fluidos através da Hidrostática. O ramo da Hidrostática é fundamental para entender, graças à grandeza física densidade, quais são os tipos de fluidos que existem, e, em função da grandeza física pressão, como é a interação que um determinado fluido exerce sobre um corpo sólido que se encontra imerso nele.\n",
    "\n",
    "Toda a Hidrostática girava ao redor de um conceito importante: a condição de equilíbrio dinâmico. Entretanto, um fluido pode se encontrar também em movimento. Neste capítulo estudaremos essa potencial característica dos fluidos, dentro do ramo chamado Hidrodinâmica. Para isso deveremos introduzir uma nova grandeza física, a qual é uma velha conhecida: a velocidade. Desta maneira, na análise de um fluido em movimento usaremos grandezas físicas definidas em Hidrostática, a densidade e a pressão, além da velocidade, que será quem embuta a condição de movimento.\n",
    "\n",
    "Um fluido em movimento é algo relativamente fácil de estudar. Entretanto, em certas condições, esse estudo pode se tornar muito complicado ou até impossível, devido a ele estar composto por um número enorme de partículas que interagem continuamente umas com as outras. É por causa disso que o estudo de um fluido em movimento deve ser separado em dois regímens:\n",
    "1. O **escoamento laminar**, durante o qual o fluido se comporta ordenadamente e, portanto, podemos usar equações matemáticas que resuman tal comportamento.\n",
    "2. O **escoamento turbulento**, durante o qual impera o caos, dentro do qual o uso de equações matemáticas que expliquem o movimento fica apenas restrita a certos padrões ordenados que emergem dentro do caos.\n",
    "\n",
    "Neste livro de Física Geral o objetivo não é aprofundar em cada uma das matérias das quais se compõe a Física, mas apenas em dar uma pincelada básica das mais fundamentais delas. Por isso, neste capítulo apenas trataremos o primeiro regime, aquele denominado escoamento laminar.\n",
    "\n",
    "Para que o escoamento de um fluido fique restrito ao regime laminar, o mesmo deve satisfazer uma série de requisitos importantes, os quais vemos a seguir:\n",
    "\n",
    "1. Condição de escoamento estacionário. A densidade, a pressão e a velocidade de um fluido não podem mudar no tempo. Aliás,\n",
    "$$\\rho \\ne f(t)$$\n",
    "$$p \\ne f(t)$$\n",
    "$$v \\ne f(t)$$\n",
    "2. Condição de escoamento incompressível. A densidade de um fluido deve ser constante em toda parte do mesmo. Isto é,\n",
    "$$\\rho \\ne f(x,y,z)$$\n",
    "3. Condição de escoamento irrotacional. Durante o escoamento um fluido não deve criar redemoinhos. Isso implica que se colocassemos uma roda de pás no sendo do fluido, esta não giraria. E isso por sua vez implica que o campo vetorial de velocidades das partículas do fluido tem simetria radial respeito do centro.\n",
    "4. Condição de escoamento não-viscoso. Durante o escoamento o fluido não perde energia na forma de atrito.\n",
    "\n",
    "## 2. Equação de continuidade\n",
    "Quando um fluido escoa por um recipiente fechado podemos aplicar conceitos de cinemática para extrair propriedades importantes do próprio escoamento. Para isso, escolhemos um instante particular e selecionamos um volume qualquer do fluido, como ilustra a <mark> figura *</mark>. Esse volume se caracteriza por área $A$, dada pela seção reta do encanamento e uma largura $l$, a qual pode ser exprimida como o produto da velocidade $v$ do fluido vezes o tempo $\\Delta t$ que o fluido demorou em percorrer essa distância $l$, pois isso tem unidades de comprimento. Isto é,\n",
    "$$V = Av\\Delta t$$\n",
    "\n",
    "Dado que o encanamento por onde o fluido escoa é fechado, isso implica que o volume que escoa por um determinado lugar tem que atravessar, num instante posterior, por outro lugar mais avançado do encamamento.\n",
    "\n",
    "## 3. Equação de Bernoulli\n",
    "\n",
    "## 4. Efeito Venturi"
   ]
  },
  {
   "cell_type": "markdown",
   "metadata": {},
   "source": []
  }
 ],
 "metadata": {
  "kernelspec": {
   "display_name": "Python 3",
   "language": "python",
   "name": "python3"
  },
  "language_info": {
   "name": "python",
   "version": "3.10.2 (tags/v3.10.2:a58ebcc, Jan 17 2022, 14:12:15) [MSC v.1929 64 bit (AMD64)]"
  },
  "orig_nbformat": 4,
  "vscode": {
   "interpreter": {
    "hash": "369f2c481f4da34e4445cda3fffd2e751bd1c4d706f27375911949ba6bb62e1c"
   }
  }
 },
 "nbformat": 4,
 "nbformat_minor": 2
}
