{
 "cells": [
  {
   "attachments": {},
   "cell_type": "markdown",
   "metadata": {},
   "source": [
    "# CAPÍTULO 11. Hidrodinâmica\n",
    "\n",
    "## 1. Introdução\n",
    "Todo o capítulo anterior orbitava ao redor de \n",
    "\n",
    "Do ponto de vista matemático, e em função das condições, o escoamento de um fluido pode ser algo fácil de estuduar \n",
    "\n",
    "Durante o escoamento de fluido, \n",
    "\n",
    "Um fluido em movimento é algo relativamente fácil de estudar. Entretanto, em certas condições, esse estudo pode se tornar muito complicado ou até impossível. O motivo é que um fluido está composto por ínumeras partículas interligadas. \n",
    "\n",
    "\n",
    "\n",
    "1. Condição de escoamento estacionario. A densidade de um fluido não muda no tempo. Alias, $\\rho \\ne f(t)$\n",
    "\n",
    "2. Condição de imconpressibilidade. A densidade de um fluido é constante em toda parte do mesmo. Ou seja, $\\rho \\ne f(x,y,z)$\n",
    "\n",
    "3. Condição de irrotacionalidade. Durante o escoamento um fluido não cria redemoinhos. Isso implica que se colocassemos uma roda de pás no sendo do fluido, esta não giraria. E isso por sua vez implica que o campo vetorial de velocidades das partículas do fluido tem simetria radial respeito do centro. \n",
    "\n",
    "4. Condição de conservação da energia. Durante o escoamento o fluido não perde energia na forma de atrito. \n",
    "\n",
    "\n",
    "## 2. Equação de continuidade\n",
    "Quando um fluido escoa por um recipiente fechado podemos aplicar conceitos de cinemática para extrair propriedades importantes do próprio escoamento. Para isso, escolhemos um instante particular e selecionamos um volume qualquer do fluido, como ilustra a <mark> figura *</mark>. Esse volume se caracteriza por área $A$, dada pela seção reta do encanamento e uma largura $l$, a qual pode ser exprimida como o produto da velocidade $v$ do fluido vezes o tempo $\\Delta t$ que o fluido demorou em percorrer essa distância $l$, pois isso tem unidades de comprimento. Isto é,\n",
    "$$V = Av\\Delta t$$\n",
    "\n",
    "Dado que o encanamento por onde o fluido escoa é fechado, isso implica que o volume que escoa por um determinado lugar tem que atravessar, num instante posterior, por outro lugar mais avançado do encamento. \n",
    "\n",
    "## 3. Equação de Bernoulli\n",
    "\n",
    "## 4. Efeito Venturi"
   ]
  },
  {
   "cell_type": "markdown",
   "metadata": {},
   "source": []
  }
 ],
 "metadata": {
  "kernelspec": {
   "display_name": "Python 3",
   "language": "python",
   "name": "python3"
  },
  "language_info": {
   "name": "python",
   "version": "3.10.2 (tags/v3.10.2:a58ebcc, Jan 17 2022, 14:12:15) [MSC v.1929 64 bit (AMD64)]"
  },
  "orig_nbformat": 4,
  "vscode": {
   "interpreter": {
    "hash": "369f2c481f4da34e4445cda3fffd2e751bd1c4d706f27375911949ba6bb62e1c"
   }
  }
 },
 "nbformat": 4,
 "nbformat_minor": 2
}
