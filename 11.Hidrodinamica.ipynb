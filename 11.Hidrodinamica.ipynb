{
 "cells": [
  {
   "attachments": {},
   "cell_type": "markdown",
   "metadata": {},
   "source": [
    "# CAPÍTULO 11. Hidrodinâmica\n",
    "\n",
    "## 1. Introdução\n",
    "No capítulo anterior iniciamos o estudo dos fluidos através da Hidrostática. O ramo da Hidrostática é fundamental para entender, graças à grandeza física densidade, quais são os tipos de fluidos que existem, e, em função da grandeza física pressão, como é a interação que um determinado fluido exerce sobre um corpo sólido que se encontra imerso nele.\n",
    "\n",
    "Toda a Hidrostática girava ao redor de um conceito importante: a condição de equilíbrio dinâmico. Entretanto, um fluido pode se encontrar também em movimento. Neste capítulo estudaremos essa potencial característica dos fluidos, dentro do ramo chamado Hidrodinâmica. Para isso deveremos introduzir uma nova grandeza física, a qual é uma velha conhecida: a velocidade. Desta maneira, na análise de um fluido em movimento usaremos grandezas físicas definidas em Hidrostática, a densidade e a pressão, além da velocidade, que será quem embuta a condição de movimento.\n",
    "\n",
    "Um fluido em movimento é algo relativamente fácil de estudar. Entretanto, em certas condições, esse estudo pode se tornar muito complicado ou até impossível, devido a ele estar composto por um número enorme de partículas que interagem continuamente umas com as outras. É por causa disso que o estudo de um fluido em movimento deve ser separado em dois regímens:\n",
    "1. O **escoamento laminar**, durante o qual o fluido se comporta ordenadamente e, portanto, podemos usar equações matemáticas que resuman tal comportamento.\n",
    "2. O **escoamento turbulento**, durante o qual impera o caos, dentro do qual o uso de equações matemáticas que expliquem o movimento fica apenas restrita a certos padrões ordenados que emergem dentro do caos.\n",
    "\n",
    "Neste livro de Física Geral o objetivo não é aprofundar em cada uma das matérias das quais se compõe a Física, mas apenas em dar uma pincelada básica das mais fundamentais delas. Por isso, neste capítulo apenas trataremos o primeiro regime, aquele denominado escoamento laminar.\n",
    "\n",
    "Para que o escoamento de um fluido fique restrito ao regime laminar, o mesmo deve satisfazer uma série de requisitos importantes, os quais vemos a seguir:\n",
    "\n",
    "1. Condição de escoamento estacionário. A densidade, a pressão e a velocidade de um fluido não podem mudar no tempo. Aliás,\n",
    "$$\\rho \\ne f(t)$$\n",
    "$$p \\ne f(t)$$\n",
    "$$v \\ne f(t)$$\n",
    "2. Condição de escoamento incompressível. A densidade de um fluido deve ser constante em toda parte do mesmo. Isto é,\n",
    "$$\\rho \\ne f(x,y,z)$$\n",
    "3. Condição de escoamento irrotacional. Durante o escoamento um fluido não deve criar redemoinhos. Isso implica que se colocassemos uma roda de pás no sendo do fluido, esta não giraria. E isso por sua vez implica que o campo vetorial de velocidades das partículas do fluido tem simetria radial respeito do centro.\n",
    "4. Condição de escoamento não-viscoso. Durante o escoamento o fluido não perde energia na forma de atrito.\n",
    "\n",
    "## 2. Fluxo e vazão\n",
    "Na hora de descrever o escoamento de um fluido através de um encanamento fechado resulta conveniente definir uma nova grandeza física que exprima quanta massa de fluido que escoa durante um intervalo de tempo. Podemos definir o chamado **fluxo médio** como:\n",
    "\n",
    "$$\\phi_m \\equiv \\frac{\\Delta m}{\\Delta t}$$\n",
    "\n",
    "A partir do fluxo médio, podemos definir um **fluxo instantâneo**, ou simplesmente **fluxo**, usando a definição da derivada. Assim,\n",
    "\n",
    "$$\\phi \\equiv \\lim_{\\Delta t\\to 0} \\frac{\\Delta m}{\\Delta t} = \\frac{d m}{d t}$$\n",
    "\n",
    "O fluxo é uma grandeza física escalar e suas unidades no Sistema Internacional são $kg/s$.\n",
    "\n",
    "Medir a massa de um fluido não é, porém, tão fácil quanto medir seu volume. É por isso que, ao invés do fluxo, é conveniente definir uma grandeza física alternativa. Inicialmente, se define a **vazão média** como:\n",
    "$$Z_m \\equiv \\frac{\\Delta V}{\\Delta t}$$\n",
    "\n",
    "A partir da vazão média, pode-se definir a **vazão instantânea** ou simplesmente **vazão** a partir da definição da derivada: \n",
    "\n",
    "$$Z \\equiv \\lim_{\\Delta t\\to 0} \\frac{\\Delta V}{\\Delta t} = \\frac{d V}{d t}$$\n",
    "\n",
    "No Sistema Internacional, a vazão se mide em metros cúbicos por segundo ($m^3/s$), mas as unidades de litros por segundo ($l/s$) é bastante mais habitual.\n",
    "\n",
    "<div style=\"padding: 15px; border: 1px solid transparent; border-color: transparent; margin-bottom: 20px; border-radius: 4px; color: #8a6d3b;; background-color: #fcf8e3; border-color: #faebcc;\">\n",
    "\n",
    "<b>Um bloco de $2kg$.</b>\n",
    "\n",
    "<p>Usando a definição de trabalho podemos aplicá-la para resolver todos os items pedidos:</p>\n",
    "\n",
    "</div>\n",
    "\n",
    "## 3. Equação de continuidade\n",
    "Quando um fluido escoa por um recipiente fechado podemos aplicar conceitos de cinemática para extrair propriedades importantes. Para isso, escolhemos um instante particular e selecionamos um volume qualquer do fluido, como ilustra a <mark> figura *</mark>. Esse volume escolhido se compõe de uma área $A$, dada pela seção reta do encanamento, e uma largura $l$, a qual pode ser exprimida como o produto da velocidade $v$ do fluido vezes o tempo $\\Delta t$ que o fluido demorou em percorrer essa distância $l$, pois o produto $v\\Delta t$ tem unidades de comprimento. Desta maneira, o volume escolhido num instante dado será:\n",
    "$$\\Delta V = Av\\Delta t$$\n",
    "\n",
    "Usando a definição da densidade, este volume possui uma massa igual a:\n",
    "$$\\Delta m = \\rho \\Delta V = \\rho A v \\Delta t $$\n",
    "\n",
    "A partir daqui, surge um fluxo médio dado por:\n",
    "$$\\phi_m = \\frac{\\Delta m}{\\Delta t} = \\rho A v $$\n",
    "\n",
    "Tomando o limite do intervalo temporal tender a zero, esse fluxo médio se torna um fluxo instantâneo. \n",
    "\n",
    "E dado que o encanamento por onde o fluido passa é fechado, a quantidade de massa $m_1$ que atravessa uma área $A_1$ durante um determinado tempo $\\Delta t$ deve ser a mesma que a quantidade de massa $m_2$ atravessa uma área $A_2$ durante o mesmo intervalo de tempo. Isto é:\n",
    "$$\\Delta m_1 = \\Delta m_2$$\n",
    "\n",
    "Ou explicitando as massas, \n",
    "$$\\rho_1 A_1 v_1 \\Delta t = \\rho A v \\Delta t$$\n",
    "\n",
    "## 4. Equação de Bernoulli\n",
    "\n",
    "## 5. Efeito Venturi"
   ]
  },
  {
   "cell_type": "markdown",
   "metadata": {},
   "source": []
  }
 ],
 "metadata": {
  "kernelspec": {
   "display_name": "Python 3.10.6 64-bit",
   "language": "python",
   "name": "python3"
  },
  "language_info": {
   "name": "python",
   "version": "3.10.6"
  },
  "orig_nbformat": 4,
  "vscode": {
   "interpreter": {
    "hash": "916dbcbb3f70747c44a77c7bcd40155683ae19c65e1c03b4aa3499c5328201f1"
   }
  }
 },
 "nbformat": 4,
 "nbformat_minor": 2
}
