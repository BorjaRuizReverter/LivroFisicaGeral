{
 "cells": [
  {
   "cell_type": "markdown",
   "metadata": {},
   "source": [
    "# CAPÍTULO 10. Eletrostática\n",
    "\n",
    "## 1. Introdução\n",
    "Todos os capítulos vistos até agora foram um tanto teóricos. Tanto que as aplicações na vida real que estudamos resultaram bastante limitadas. Por exemplo, de maneira geral apenas podíamos tratar os corpos como se fossem partículas, e ainda, desde que fossem isoladas do resto do Universo, o qual resulta uma simplificação útil como primeira abordagem, mas provavelmente um tanto inútil para resolver problemas reais. Podíamos, por outro lado, usar a conservação de energia para resolver o problema, mas apenas nos casos nos quais não houver atrito, o qual também é algo irreal.\n",
    "\n",
    "Neste novo capítulo vamos mudar o foco. Não resta outra para poder estudar um fluido, pois ele é um coletivo composto por um número enorme de partículas, o qual não da para ignorar. \n",
    "\n",
    "Como sempre, toda vez que mudamos o ponto de vista é com o *trade-off* de ter que introduzir novas grandezas físicas. Neste caso, para estudar fluidos, temos que definir novas grandezas físicas que embutam o fato de que o fluido é algo extenso, não mais um ponto isolado. \n",
    "\n",
    "## 2. Pressão\n",
    "Em ...\n",
    "$$\\boxed{\\tag{*}p = \\frac{F}{A}}$$\n",
    ", onde $F$ é a massa do fluido e $V$ é o volume que ele ocupa. \n",
    "\n",
    "No Sistema Internacional as unidades da força são os $kg\\cdot m/s^2$ e as unidades da área são $m^2$. Sendo assim, as unidades da pressão será $kg/m\\cdot s^2$, os quais se bautizam como Pascais (P).\n",
    "\n",
    "Outras unidades...\n",
    "\n",
    "<div style=\"padding: 15px; border: 1px solid transparent; border-color: transparent; margin-bottom: 20px; border-radius: 4px; color: #8a6d3b;; background-color: #fcf8e3; border-color: #faebcc;\">\n",
    "\n",
    "<b>Exemplo</b>\n",
    "\n",
    "<p>\n",
    "\n",
    "\n",
    "</p>\n",
    "\n",
    "</div>\n",
    "\n",
    "## 3. Densidade\n",
    "Uma grandeza física necessária para caracterizar um fluido é sua **densidade**. A densidade ($\\rho$) é definida como\n",
    "$$\\boxed{\\tag{*}\\rho = \\frac{m}{V}}$$\n",
    ", onde $m$ é a massa do fluido e $V$ é o volume que ele ocupa. Como, no Sistema Internacional, as unidades da massa são os kilogramas e as unidades do volume os metros cúbicos, a densidade tem unidades de $kg/m^3$,\n",
    "\n",
    "Essas unidades, porém, são relativamente grandes. Por isso, é comum usar outras menores como gramas sobre litro ($g/L$) ou $g/cm^3$. É importante neste ponto lembrar dos fatores de conversão para poder transformar de umas para outras se precisar.\n",
    "\n",
    "<div style=\"padding: 15px; border: 1px solid transparent; border-color: transparent; margin-bottom: 20px; border-radius: 4px; color: #8a6d3b;; background-color: #fcf8e3; border-color: #faebcc;\">\n",
    "\n",
    "<b>Exemplo</b>\n",
    "\n",
    "<p>\n",
    "\n",
    "\n",
    "</p>\n",
    "\n",
    "</div>\n"
   ]
  }
 ],
 "metadata": {
  "kernelspec": {
   "display_name": "Python 3.10.2 64-bit",
   "language": "python",
   "name": "python3"
  },
  "language_info": {
   "name": "python",
   "version": "3.10.2"
  },
  "orig_nbformat": 4,
  "vscode": {
   "interpreter": {
    "hash": "369f2c481f4da34e4445cda3fffd2e751bd1c4d706f27375911949ba6bb62e1c"
   }
  }
 },
 "nbformat": 4,
 "nbformat_minor": 2
}
