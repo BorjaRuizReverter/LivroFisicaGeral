{
 "cells": [
  {
   "cell_type": "markdown",
   "metadata": {},
   "source": [
    "# CAPÍTULO 10. Hidrostática\n",
    "\n",
    "## 1. Introdução\n",
    "Toda a Física vista até agora consistiu em simplificar ao máximo o problema. Essa é maneira correta de proceder, como primeira aproximação, a um problema que, na vida real, é complexo por se só. Nessa simplificação tivemos que aproximar o corpo por um ponto: a partícula, e tivemos que isolar ela do resto do Universo.\n",
    "\n",
    "No estudo dos fluidos, que iniciamos neste capítulo, essa abordagem não é mais válida. Um fluido é composto por um número enorme de partículas, as quais interagem umas com as outras através de ligações de Van de Waals. Um fluido é um coletivo, algo que não pode ser desmembrado em entes individuais. E sendo assim, não resta outra que mudar o enfoque.\n",
    "\n",
    "Como sempre, toda vez que mudamos o ponto de vista temos um *trade-off*, o qual tipicamente implica introduzir novas grandezas físicas. Agora devemos definir novas grandezas físicas que embutam o fato de que o fluido é algo extenso e não mais um ponto isolado. Por exemplo, durante toda a análise da Dinâmica, usamos o conceito de massa, como sendo algo associado à partícula. Em fluidos, porém, usaremos uma grandeza física análoga que será a **densidade**, pois esta inclui a volume que um fluido ocupa no espaço, evitando assim o conceito de partícula. Também, toda a Dinâmica orbitava ao redor do conceito de força aplicada na partícula. Entretanto, não faz nenhum sentido aplicar uma força a um ponto de um fluido. O que faz sentido é aplicar uma força sobre alguma área do fluido composta por um número enorme de partículas. E, sendo assim, estaríamos exercendo uma **pressão** sobre o fluido.\n",
    "\n",
    "Desta maneira, estamos realizando uma espécie de transformação de grandezas físicas. Ao invés de usar os conceitos de massa e força, os quais não fazem mais sentido no estudo dos fluidos, usaremos os conceitos de densidade e pressão, os quais envolvem volumes e áreas, dando assim um enfase ao conceito de fluido como algo extenso. Como veremos, muitas das equações vistas até agora em Dinâmica resultam ser as mesmas para fluidos apenas realizando essa transformação.\n",
    "\n",
    "\n",
    "\n",
    "## 2. Pressão\n",
    "Em ...\n",
    "$$\\boxed{\\tag{*}p = \\frac{F}{A}}$$\n",
    ", onde $F$ é a massa do fluido e $V$ é o volume que ele ocupa. \n",
    "\n",
    "No Sistema Internacional as unidades da força são os $kg\\cdot m/s^2$ e as unidades da área são $m^2$. Sendo assim, as unidades da pressão será $kg/m\\cdot s^2$, os quais se bautizam como Pascais (P).\n",
    "\n",
    "Outras unidades...\n",
    "\n",
    "<div style=\"padding: 15px; border: 1px solid transparent; border-color: transparent; margin-bottom: 20px; border-radius: 4px; color: #8a6d3b;; background-color: #fcf8e3; border-color: #faebcc;\">\n",
    "\n",
    "<b>Exemplo</b>\n",
    "\n",
    "<p>\n",
    "\n",
    "\n",
    "</p>\n",
    "\n",
    "</div>\n",
    "\n",
    "## 3. Densidade\n",
    "Uma grandeza física necessária para caracterizar um fluido é sua **densidade**. A densidade ($\\rho$) é definida como\n",
    "$$\\boxed{\\tag{*}\\rho = \\frac{m}{V}}$$\n",
    ", onde $m$ é a massa do fluido e $V$ é o volume que ele ocupa. Como, no Sistema Internacional, as unidades da massa são os kilogramas e as unidades do volume os metros cúbicos, a densidade tem unidades de $kg/m^3$,\n",
    "\n",
    "Essas unidades, porém, são relativamente grandes. Por isso, é comum usar outras menores como gramas sobre litro ($g/L$) ou $g/cm^3$. É importante neste ponto lembrar dos fatores de conversão para poder transformar de umas para outras se precisar.\n",
    "\n",
    "<div style=\"padding: 15px; border: 1px solid transparent; border-color: transparent; margin-bottom: 20px; border-radius: 4px; color: #8a6d3b;; background-color: #fcf8e3; border-color: #faebcc;\">\n",
    "\n",
    "<b>Exemplo</b>\n",
    "\n",
    "<p>\n",
    "\n",
    "\n",
    "</p>\n",
    "\n",
    "</div>\n"
   ]
  },
  {
   "cell_type": "markdown",
   "metadata": {},
   "source": []
  }
 ],
 "metadata": {
  "kernelspec": {
   "display_name": "Python 3.10.2 64-bit",
   "language": "python",
   "name": "python3"
  },
  "language_info": {
   "name": "python",
   "version": "3.10.2"
  },
  "orig_nbformat": 4,
  "vscode": {
   "interpreter": {
    "hash": "369f2c481f4da34e4445cda3fffd2e751bd1c4d706f27375911949ba6bb62e1c"
   }
  }
 },
 "nbformat": 4,
 "nbformat_minor": 2
}
