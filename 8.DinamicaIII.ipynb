{
 "cells": [
  {
   "cell_type": "markdown",
   "metadata": {},
   "source": [
    "# CAPÍTULO 8. Dinâmica III (Trabalho e energia)\n",
    "\n",
    "## 1. Introdução\n",
    "\n",
    "\n",
    "## 2. Trabalho de uma força constante\n",
    "Provavelmente, uns dos maiores propósitos da humanidade é encontrar fontes de energia. Todas as maneiras possíveis de gerar energia é através do movimento. Por exemplo, podemos extrair energia de um rio através do movimento que ele produz numa roda de pás, ou podemos extrair energia do vento através de um moinho ou de um catavento, ou podemos extrair energia do Sol através do movimento de elétrons que ele induz nas placas de um painel solar.\n",
    "\n",
    "Nos dois capítulos anteriores sobre Dinâmica, estudamos muito sobre as forças. Entretanto, agora queremos mudar o foco para saber mais de cada força. Especificamente, queremos saber quanto que uma força é capaz de mover algo, o qual é particularmente importante, pois indicaria se poderíamos ou não gerar energia a partir dessa força. \n",
    "\n",
    "Para estudarmos as forças desde esse ponto de vista, devemos criar nova uma ferramenta denominada **trabalho** (W). O trabalho de uma força específica $\\vec{F}$ é definido como o produto escalar dessa força vezes o deslocamento que o corpo experimenta para ir de um ponto A a um ponto B:\n",
    "$$\\boxed{\\tag{*}W_{\\vec{F}}^{AB} \\equiv \\vec{F} \\cdot \\vec{d}_{AB}}$$\n",
    "\n",
    "No Sistema Internacional de Unidades a força é medida em newtons ($N$) e deslocamento em metros (m). Como a função cosseno não tem unidades, as unidades no S.I. do trabalho serão os $N$ vezes $m$, aos quais se batiza como joules ($J$). Joules, portanto, é uma unidade derivada, a qual podemos decompor nas suas unidades fundamentais:\n",
    "$$J \\equiv N \\cdot m = kg\\cdot \\frac{m}{s^2}\\cdot m = \\frac{kg\\cdot m^2}{s^2}$$\n",
    "\n",
    "## 3. Trabalho de uma força variável\n",
    "A definição de trabalho é uma definição muito simples e ideal, pois na vida real todas as forças são variáveis. Também, essa definição não é útil para caminhos curvos, pois um vetor, neste caso o vetor deslocamento, é um segmento reto por definição. Sendo assim, se torna necessário criar uma ferramenta mais adequada às demandas da vida real.\n",
    "\n",
    "\n",
    "## 4. Propriedades do trabalho\n",
    "Do ponto de vista matemático, o trabalho possui algumas propriedades que emergem do fato de que a soma de vários vetores é um vetor. Podemos demostrar tais propriedades usando a definição de trabalho. Já que estas propriedades se satisfazem tanto para a definição de trabalho usando uma força constante quanto para uma força varíavel, usemos a primeira por ser mais simples.\n",
    "\n",
    "1. O **trabalho é aditivo no caso das forças**, pois o trabalho de uma força soma será a soma dos trabalhos de cada uma das forças.\n",
    "$$W_{\\vec{F_1}+\\vec{F_2}+\\vec{F_3}+...} = (\\vec{F_1} + \\vec{F_2} + \\vec{F_3} + ...)\\cdot \\vec{d} = \\vec{F_1}\\cdot \\vec{d} + \\vec{F_2}\\cdot \\vec{d} + \\vec{F_3}\\cdot \\vec{d} + ... = W_{\\vec{F_1}} + W_{\\vec{F_2}} + W_{\\vec{F_3}} + ...$$\n",
    "\n",
    "2. O **trabalho é aditivo no caso do caminho**, pois o trabalho de um caminho soma será a soma dos trabalhos ao longo de cada um dos caminhos. Ou dito de outra maneira, o trabalho ao longo de um caminho pode ser dividido em trabalhos ao londo de caminhos menores, dos quais o total se compõe. \n",
    "\n",
    "## 5. Energia cinética\n",
    "\n",
    "\n"
   ]
  },
  {
   "cell_type": "markdown",
   "metadata": {},
   "source": []
  }
 ],
 "metadata": {
  "kernelspec": {
   "display_name": "Python 3.10.2 64-bit",
   "language": "python",
   "name": "python3"
  },
  "language_info": {
   "name": "python",
   "version": "3.10.2"
  },
  "orig_nbformat": 4,
  "vscode": {
   "interpreter": {
    "hash": "369f2c481f4da34e4445cda3fffd2e751bd1c4d706f27375911949ba6bb62e1c"
   }
  }
 },
 "nbformat": 4,
 "nbformat_minor": 2
}
