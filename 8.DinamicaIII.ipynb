{
 "cells": [
  {
   "cell_type": "markdown",
   "metadata": {},
   "source": [
    "# CAPÍTULO 8. Dinâmica III (Trabalho e energia)\n",
    "\n",
    "## 1. Introdução\n",
    "Nos capítulos anteriores, nos quais introduzimos a Dinâmica a partir das Leis de Newton, foi usada uma abordagem particular na hora de entender a origem do movimento. Essa abordagem consistia em pensar que sobre o corpo em questão agiam forças exercidas por algo ou por alguém externo ao corpo. Assim, de maneira implícita, separávamos o corpo, o qual pode ser chamado de **sistema**, do resto do seu entorno, o qual pode ser chamado de **vizinhança**, e a interação dessa vizinhança com o sistema era feita através de um ou vários vetores, particularmente vetores força. A partir daí usávamos a trigonometria para decompor tais vetores e a Segunda Lei de Newton, separada nas suas componentes, para resolver o problema, o qual tipicamente desembocava num sistema de 2, 4, 6, 8,... equações lineares. Dessa maneira, conseguíamos resolver o problema, mas o número de equações que obtínhamos como resultado dessa abordagem era um tanto desesperador. De fato, o sistema de equações ainda aumentava quando eram introduzidas as forças de atrito. \n",
    "\n",
    "Neste capítulo vamos mudar essa abordagem. Vamos continuar descrevendo o problema do movimento de um corpo como uma interação entre o sistema e a vinhança, mas vamos ver que tal interação pode ser descrita simplesmente por números, e não tanto por vetores. O *trade-off* dessa mudança é ter que introduzir novas grandezas físicas. Entretanto, essas novas grandezas físicas nos fornecerão uma compreensão mais profunda do problema do movimento e, além disso, comprovaremos como um problema, cuja resolução poderia se tornar muito longa e complicada, poderá ser resolvido de maneira simples e elegante graças ao resultado dessa mudança de abordagem. Esta nova abordagem é um processo, sendo este capítulo o começo do mesmo e cuja finalização virá no seguinte.\n",
    "\n",
    "Duas novas grandezas físicas serão protagonistas por enquanto durante esse processo: o trabalho e a energia cinética. Comecemos pela primeira.\n",
    "\n",
    "## 2. Trabalho de uma força constante\n",
    "Provavelmente, uns dos maiores propósitos da humanidade é encontrar fontes de energia. Todas as maneiras possíveis de gerar energia é através do movimento. Por exemplo, podemos extrair energia de um rio através do movimento que ele produz numa roda de pás, ou podemos extrair energia do vento através de um moinho ou de um catavento, ou podemos extrair energia do Sol através do movimento de elétrons que ele induz nas placas de um painel solar.\n",
    "\n",
    "Nos dois capítulos anteriores sobre Dinâmica, estudamos muito sobre as forças. Entretanto, agora queremos mudar o foco para saber mais de cada força. Especificamente, queremos saber quanto que uma força é capaz de mover algo, o qual é particularmente importante, pois indicaria se poderíamos ou não gerar energia a partir dessa força. \n",
    "\n",
    "Para estudarmos as forças desde esse ponto de vista, devemos criar nova uma ferramenta denominada **trabalho** (W). O trabalho de uma força específica $\\vec{F}$ é definido como o produto escalar dessa força vezes o deslocamento que o corpo experimenta para ir de um ponto A a um ponto B:\n",
    "$$\\boxed{\\tag{*}W_{\\vec{F}}^{AB} \\equiv \\vec{F} \\cdot \\vec{d}_{AB}}$$\n",
    "\n",
    "Por sua vez, usando a própria definição do produto escalar, podemos usar alternativamente esta outra expressão:\n",
    "$$\\boxed{\\tag{*}W_{\\vec{F}}^{AB} \\equiv F \\cdot d_{AB} \\cdot \\cos\\theta}$$\n",
    ", onde, de maneira geral, $\\theta$ é o ângulo que formam os vetores. A <mark>figura *</mark> ilustra um possível arranjo de tal problema.\n",
    "\n",
    "No Sistema Internacional de Unidades a força é medida em newtons ($N$) e deslocamento em metros (m). Como a função cosseno não tem unidades, as unidades no S.I. do trabalho serão os $N$ vezes $m$, aos quais se batiza como joules ($J$). Joules, portanto, é uma unidade derivada, a qual podemos decompor nas suas unidades fundamentais:\n",
    "$$J \\equiv N \\cdot m = kg\\cdot \\frac{m}{s^2}\\cdot m = \\frac{kg\\cdot m^2}{s^2}$$\n",
    "\n",
    "## 3. Trabalho de uma força variável\n",
    "A definição de trabalho é uma definição muito simples e ideal, pois na vida real todas as forças são variáveis. Também, essa definição não é útil para caminhos curvos, pois um vetor, neste caso o vetor deslocamento, é um segmento reto por definição. Sendo assim, se torna necessário criar uma ferramenta mais adequada às demandas da vida real.\n",
    "\n",
    "\n",
    "## 4. Propriedades do trabalho\n",
    "Do ponto de vista matemático, o trabalho possui algumas propriedades que emergem do fato de que a soma de vários vetores é um vetor. Podemos demostrar tais propriedades usando a definição de trabalho. Já que estas propriedades se satisfazem tanto para a definição de trabalho usando uma força constante quanto para uma força varíavel, usemos a primeira por ser mais simples.\n",
    "\n",
    "1. O **trabalho é aditivo no caso das forças**, pois o trabalho de uma força soma será a soma dos trabalhos de cada uma das forças.\n",
    "$$W_{\\vec{F_1}+\\vec{F_2}+\\vec{F_3}+...} = (\\vec{F_1} + \\vec{F_2} + \\vec{F_3} + ...)\\cdot \\vec{d} = \\vec{F_1}\\cdot \\vec{d} + \\vec{F_2}\\cdot \\vec{d} + \\vec{F_3}\\cdot \\vec{d} + ... = W_{\\vec{F_1}} + W_{\\vec{F_2}} + W_{\\vec{F_3}} + ...$$\n",
    "\n",
    "2. O **trabalho é aditivo no caso do caminho**, pois o trabalho de um caminho soma será a soma dos trabalhos ao longo de cada um dos caminhos. Ou dito de outra maneira, o trabalho ao longo de um caminho pode ser dividido em trabalhos ao londo de caminhos menores, dos quais o total se compõe. \n",
    "\n",
    "<div style=\"padding: 15px; border: 1px solid transparent; border-color: transparent; margin-bottom: 20px; border-radius: 4px; color: #8a6d3b;; background-color: #fcf8e3; border-color: #faebcc;\">\n",
    "\n",
    "<b>Um bloco de 2kg é empurrado com uma força F de 30N de módulo, a qual forma um ângulo de 30° com a horizontal. Sobre o bloco atua uma força de atrito cinético de 5N. Calcule o trabalho (a) da força F (b) da força peso (c) da força normal e (d) da força de atrito durante o deslocamento horizontal de 2 m.</b>\n",
    "\n",
    "\n",
    "</div>\n",
    "\n",
    "## 5. Interpretação do trabalho\n",
    "Do ponto d\n",
    "\n",
    "## 6. Energia cinética\n",
    "\n",
    "\n",
    "$$W_{\\vec{\\Sigma F}} = \\vec{\\Sigma F}\\cdot \\vec{d} = $$\n",
    "\n"
   ]
  },
  {
   "cell_type": "markdown",
   "metadata": {},
   "source": []
  }
 ],
 "metadata": {
  "kernelspec": {
   "display_name": "Python 3.10.2 64-bit",
   "language": "python",
   "name": "python3"
  },
  "language_info": {
   "name": "python",
   "version": "3.10.2"
  },
  "orig_nbformat": 4,
  "vscode": {
   "interpreter": {
    "hash": "369f2c481f4da34e4445cda3fffd2e751bd1c4d706f27375911949ba6bb62e1c"
   }
  }
 },
 "nbformat": 4,
 "nbformat_minor": 2
}
