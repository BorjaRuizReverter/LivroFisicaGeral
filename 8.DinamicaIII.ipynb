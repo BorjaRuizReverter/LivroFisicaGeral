{
 "cells": [
  {
   "cell_type": "markdown",
   "metadata": {},
   "source": [
    "# CAPÍTULO 8. Dinâmica III (Trabalho e energia)\n",
    "\n",
    "## 1. Introdução\n",
    "\n",
    "\n",
    "## 2. Trabalho de uma força constante\n",
    "Provavelmente, uns dos maiores propósitos da humanidade é encontrar fontes de energia. Todas as maneiras possíveis de gerar energia é através do movimento. Por exemplo, podemos extrair energia de um rio através do movimento que ele produz numa roda de pás, ou podemos extrair energia do vento através de um moinho ou de um catavento, ou podemos extrair energia do Sol através do movimento de elétrons que ele induz nas placas de um painel solar.\n",
    "\n",
    "Nos dois capítulos anteriores sobre Dinâmica, estudamos muito sobre as forças. Entretanto, agora queremos mudar o foco para saber mais de cada força. Especificamente, queremos saber quanto que uma força é capaz de mover algo, o qual é particularmente importante, pois indicaria se poderíamos ou não gerar energia a partir dessa força. \n",
    "\n",
    "Para estudarmos as forças desde esse ponto de vista, devemos criar nova uma ferramenta denominada **trabalho** (W). O trabalho de uma força específica $\\vec{F}$ é definido como o produto escalar dessa força vezes o deslocamento que o corpo experimenta para ir de um ponto A a um ponto B:\n",
    "$$W_{\\vec{F}}^{AB} = \\vec{F} \\cdot \\vec{d}_{AB}$$\n",
    "\n",
    "## 3. Trabalho de uma força variável\n",
    "\n",
    "## 4. Energia cinética\n",
    "\n"
   ]
  },
  {
   "cell_type": "markdown",
   "metadata": {},
   "source": []
  }
 ],
 "metadata": {
  "kernelspec": {
   "display_name": "Python 3.10.2 64-bit",
   "language": "python",
   "name": "python3"
  },
  "language_info": {
   "name": "python",
   "version": "3.10.2"
  },
  "orig_nbformat": 4,
  "vscode": {
   "interpreter": {
    "hash": "369f2c481f4da34e4445cda3fffd2e751bd1c4d706f27375911949ba6bb62e1c"
   }
  }
 },
 "nbformat": 4,
 "nbformat_minor": 2
}
