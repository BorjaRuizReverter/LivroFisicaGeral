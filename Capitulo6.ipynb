{
 "cells": [
  {
   "cell_type": "markdown",
   "metadata": {},
   "source": [
    "# Capítulo 6. Dinâmica\n",
    "\n",
    "## 1. Introdução\n",
    "No capítulo 4, que tratava sobre Cinemática, iniciamos o estudo do movimento. Naquele momento explicamos que o ramo da Física que estuda o movimento é a Mecânica e ele se compõe da Cinemática e da Dinâmica. Neste capítulo, portanto, estudamos a parte que falta para entender completamente o fenômeno do movimento.\n",
    "\n",
    "Dinâmica provém da palavra grega *dinamo*, a qual tem a ver com explosão. Efetivamente, a Dinâmica estuda como o movimento 'explode', no sentido em como ele é gerado. Essa questão é fundamental, mas até agora não tínhamos resposta. Isso foi devido a que a Cinemática não responde quem gerou o movimento nem o por quê. A tarefa neste capítulo será responder a essas questões que faltam para descrever completamente o movimento.\n",
    "\n",
    "Como agora sabemos, o movimento se divide em dois: o começo (Dinâmica) e o desenvolvimento (Cinemática), áreas que efetivamente se estudam de maneira independente. Entretanto, nessa explosão do movimento, alguma informação deve ser extraída para que, a partir, o movimento se desenvolva ao longo do tempo. Essa informação está embutida na aceleração. A aceleração é, de fato, o nexo de união entre ambas áreas a Cinemática e a Dinâmica.\n",
    "\n",
    "As grandezas físicas que estudávamos em Cinemática eram, principalmente, o tempo, a posição, a velocidade e a aceleração. Agora, em Dinâmica, além da aceleração, emergem duas novas grandezas físicas: a **massa** e a **força**, a partir de uma expressão fundamental conhecida como **Segunda Lei de Newton**.\n",
    "\n",
    "Igual que fizemos ao nos introduzir no estudo da Cinemática, devemos simplificar conceitos para facilitar a abordagem. A Dinâmica que estudaremos será a chamada Dinâmica Translacional Clássica da Partícula. Isso quer dizer que estudaremos forças aplicadas a corpos pontuais que lhes produzem acelerações responsáveis por translações. \n",
    "\n",
    "## 2. Segunda Lei de Newton\n",
    "\n",
    "### 2.1 Conceito de Força\n",
    "\n",
    "### 2.2. Conceito de massa\n",
    "\n",
    "### 3. Primeira Lei de Newton\n",
    "\n",
    "### 4. Terceira Lei de Newton\n"
   ]
  }
 ],
 "metadata": {
  "kernelspec": {
   "display_name": "Python 3.10.2 64-bit",
   "language": "python",
   "name": "python3"
  },
  "language_info": {
   "name": "python",
   "version": "3.10.2"
  },
  "orig_nbformat": 4,
  "vscode": {
   "interpreter": {
    "hash": "369f2c481f4da34e4445cda3fffd2e751bd1c4d706f27375911949ba6bb62e1c"
   }
  }
 },
 "nbformat": 4,
 "nbformat_minor": 2
}
