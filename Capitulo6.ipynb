{
 "cells": [
  {
   "cell_type": "markdown",
   "metadata": {},
   "source": [
    "# CAPÍTULO 6. Dinâmica I (Leis de Newton)\n",
    "\n",
    "## 1. Introdução\n",
    "No capítulo 4, que tratava sobre Cinemática, iniciamos o estudo do movimento. Naquele momento explicamos que o ramo da Física que estuda o movimento é a Mecânica e ele se compõe da Cinemática e da **Dinâmica**. Neste capítulo, portanto, estudamos a parte que falta para entender completamente o fenômeno do movimento.\n",
    "\n",
    "Novamente, igual que fizemos ao introduzir a Cinemática, devemos simplificar conceitos para facilitar a abordagem. A Dinâmica que estudaremos será a chamada Dinâmica Translacional Clássica da Partícula, na qual também devemos tratar aos corpos como se fossem pontos para assim evitar a rotação e, como consequência, apenas abordaremos a translação desses corpos pontuais.\n",
    "\n",
    "Dinâmica provém da palavra grega *dinamo*, a qual tem a ver com explosão. Efetivamente, a Dinâmica estuda como o movimento 'explode', no sentido em como ele é gerado. Essa questão é fundamental, mas até agora não tínhamos resposta. Isso foi devido a que a Cinemática não responde quem gerou o movimento nem o por quê. A tarefa neste capítulo será responder a essas questões que faltam para descrever completamente o movimento.\n",
    "\n",
    "Como agora sabemos, o movimento se divide em dois: o começo (Dinâmica) e o desenvolvimento (Cinemática), áreas que efetivamente se estudam de maneira independente. Entretanto, nessa explosão do movimento, alguma informação deve ser extraída para que, a partir, o movimento se desenvolva ao longo do tempo. Essa informação está embutida na aceleração. A aceleração é, de fato, o nexo de união entre ambas as áreas, a Cinemática e a Dinâmica.\n",
    "\n",
    "As grandezas físicas que estudávamos em Cinemática eram, principalmente, o tempo, a posição, a velocidade e a aceleração. Agora, em Dinâmica, além da aceleração, emergem duas novas grandezas físicas: a **massa** e a **força**, a partir de uma expressão fundamental conhecida como **Segunda Lei de Newton**.\n",
    "\n",
    "Em Cinemática definíamos duas grandezas físicas principais: o tempo e a posição, e o resto eram derivadas dessas a partir de operações matemáticas simples como subtrações e divisões, ou a partir de operações matemáticas mais complexas como a derivada ou a integral. Todo o arcabouço da Cinemática foi construída dessa maneira. Agora, faremos algo parecido, só que, ao invés de partir de definições de grandezas físicas, partiremos da Segunda Lei de Newton. E, a partir da mesma, usando ela como base, será construída toda a Dinâmica através de, agora sim, ferramentas lógicas.\n",
    "\n",
    "Curiosamente, a Segunda Lei de Newton não é uma expressão racional, no sentido em que não pode ser deduzida a partir da lógica. A Segunda Lei de Newton é uma expressão empirista, pois ela é deduzida a partir da experiência. Isso é devido a que, como veremos, o conceito de força que usaremos surge a partir de uma média das interações dadas por um número enorme de partículas (átomos ou moléculas) das quais os corpos macroscópicos envolvidos se compõem. E, quando isso acontece, no momento em que ao invés de tratar com partículas puntuais sem nenhuma natureza interna (definição de ponto matemático tal e como foi usado em Cinemática), tratamos de partículas reais (átomos ou moléculas) a pureza e rigor matemático, que a priori sempre existe, se dilui no caos. É partir daí, onde a lógica matemática não é tão útil quanto o são nossos sentidos.\n",
    "\n",
    "A Segunda Lei de Newton é a equação mais importante de Dinâmica. Entretanto, ela não a única. De fato, os pilares de Dinâmica estão baseados em três leis: a Primeira, a Segunda e a Terceira Lei de Newton. Cada Lei trata de um assunto diferente e independente, o qual não é consequência da Lei anterior. Então, é só por motivos históricos, que as tais leis foram enumeradas dessa maneira. Entretanto, apenas para facilitar a abordagem da Dinâmica, trataremos primeiro a Segunda Lei e posteriormente as outras duas.\n",
    "\n",
    "## 2. Segunda Lei de Newton\n",
    "A Segunda Lei de Newton vem dada pela seguinte expressão:\n",
    "\n",
    "$$\\boxed{\\tag{*}\\Sigma \\vec{F} = m \\cdot \\vec{a}}$$\n",
    "\n",
    "onde $\\Sigma \\vec{F}$ é a resultante, ou soma, das forças que atuam num corpo de massa $m$, as quais lhe produzem uma aceleração $\\vec{a}$.\n",
    "\n",
    "A Segunda Lei é uma equação causal porque estabelece uma relação entre uma causa: a soma das forças que atuam no corpo, e uma consequência: a aceleração que o corpo experimenta. Ela também é uma equação vetorial e, portanto, não é só uma equação de números (módulos), mas também de direções e sentidos. De fato, se a massa tivesse valor unidade (1kg), a segunda Lei de Newton simplificaria a:\n",
    "\n",
    "$$\\Sigma \\vec{F} = a$$\n",
    "\n",
    "e, nesse caso, a aceleração que o corpo sofreria seria igual à força resultante em módulo, direção e sentido. É muito lógico que isso aconteça, pois por experiência sabemos que o corpo se move (acelera) para o lugar para onde ele é empurrado.\n",
    "\n",
    "Isso também acontece no caso geral onde o valor da massa é diferente de um, pois como vimos no capítulo sobre vetores, multiplicar um escalar por um vetor, neste caso, só resulta numa mudança do módulo, já que no existem massas negativas. Sendo assim, multiplicar a massa pelo vetor $\\vec{a}$ só resulta em esticar o vetor aceleração (quando $m>1$) ou em reduzi-lo (quando $m<1$).\n",
    "\n",
    "Como também sabemos, todo vetor pode ser colocado em função das suas componentes. Ou seja, no caso de um arranjo em 2D, a Segunda Lei também poderia ser escrita assim:\n",
    "\n",
    "$$\\tag{*}\\Sigma \\vec{F_x} + \\Sigma \\vec{F_y} = m \\cdot (\\vec{a_x} + \\vec{a_y})$$\n",
    "\n",
    "ou, em consequência:\n",
    "\n",
    "$$\\tag{*}\\Sigma F_x\\hat{i} + \\Sigma F_y\\hat{j} = m \\cdot (a_x\\hat{i} + a_y\\hat{j})$$\n",
    "\n",
    "E, finalmente, podemos dividir essa equação em outras novas, as quais representariam sua decomposição vetorial. Para isso, multiplicamos essa equação pelo vetor unitário $\\vec{i}$ e, por outro lado, pelo vetor unitário $\\hat{j}$. Um pouco de álgebra vetorial usando o produto escalar de vetores unitários deveria nos levar a que:\n",
    "\n",
    "$$\\boxed{\\tag{*}\\Sigma F_x = m \\cdot a_x}$$\n",
    "\n",
    "$$\\boxed{\\tag{*}\\Sigma F_y = m \\cdot a_y}$$\n",
    "\n",
    "Estas equações são a Segunda Lei de Newton, porém em formato escalar e elas são importantes porque representam uma alternativa a usar Segunda Lei de Newton no seu formato vetorial. É interessante observar que sempre podemos decompor uma equação vetorial em várias equações escalares, tantas quanto a dimensão do espaço problema. Trabalhar com equações escalares é bastante mais fácil que trabalhar com equações vetoriais e, por isso, na hora de resolver problemas essa será a abordagem preferencial. Entretanto, nem tudo são vantagens, pois passar de usar equações vetoriais a escalares desemboca no *trade-off* inevitável de ter que usar várias equações. De fato, essa transformação sempre desemboca num sistema de equações, o qual pode também ser representado matricialmente:\n",
    "\n",
    "$$\n",
    "\\begin{pmatrix}\n",
    "   \\Sigma F_x \\\\ \\Sigma F_y\n",
    "\\end{pmatrix}=\n",
    "\\begin{pmatrix} \n",
    "   m & m\n",
    "\\end{pmatrix}\n",
    "\\begin{pmatrix} \n",
    "   a_x \\\\ a_y \n",
    "\\end{pmatrix}\n",
    "$$\n",
    "\n",
    "É claro que ao passar do formato vetorial ao formato escalar chegamos a um sistema de equações que são **linearmente independenteS**, pois todas as equações escalares nos aportam informação relevante e complementar. É importante entender que, como consequência de independência linear das equações, o tratamento do que acontece ao longo de cada eixo de coordenadas é independente. Portanto, vamos a poder estudar as leis de Newton de maneira independente para cada eixo.\n",
    "\n",
    "### 2.1 Conceito de força\n",
    "\n",
    "### 2.2. Conceito de massa\n",
    "Podemos usar a Segunda Lei de Newton para entender o que realmente significa a massa. Suponhamos que sobre um corpo de massa $m$ qualquer atua apenas uma força, a qual chamaremos de $F$. Nesse caso a Segunda Lei de Newton simplificaria a:\n",
    "\n",
    "$$\\vec{F} = m \\cdot \\vec{a}$$\n",
    "\n",
    "Mas já que apenas existe uma força, e já que, como sabemos, o vetor aceleração tem que ir no mesmo sentido e direção do vetor $\\vec{F}$, sempre podemos escolher o referencial com o semi-eixo positivo de X orientando no sentido e direção dessa força $F$. E sendo assim, os vetores não são mais necessários, com o qual teriamos que:\n",
    "\n",
    "$$F = m \\cdot a$$\n",
    "\n",
    "E, finalmente, para nosso propósito de entender o significado da massa, isolemos a aceleração:\n",
    "\n",
    "$$a = \\frac{F}{m}$$\n",
    "\n",
    "Analisemos agora esta equação do ponto de vista funcional. De esse ponto de vista teriamos uma função que depende de duas varíaveis, ou seja, $a=f(F,m)$. Já que, no capítulo de funções apenas estudamos funções de uma varíavel, estudemos que acontece se apenas uma dessas grandezas físicas é varíavel, deixando para isso a outra como constante. Comecemos primeiro escolhendo um experimento no qual a massa de um corpo é a mesma, e sobre esse corpo atuam forças de diferente magnitude com o intuito de estudar a aceleração que o corpo experimenta. Já que, dessa maneira, a equação que fica seria uma equação linear,\n",
    "\n",
    "$$a = \\frac{F}{m} = \\frac{1}{m}F$$\n",
    "\n",
    "e seu gráfico seria uma linha reta que parte da origem e com inclinação $1/m$."
   ]
  },
  {
   "cell_type": "markdown",
   "metadata": {},
   "source": []
  },
  {
   "cell_type": "code",
   "execution_count": 23,
   "metadata": {},
   "outputs": [
    {
     "data": {
      "image/png": "[encoded data removed]",
      "text/plain": [
       "<Figure size 432x288 with 1 Axes>"
      ]
     },
     "metadata": {},
     "output_type": "display_data"
    }
   ],
   "source": [
    "# importing the required module\n",
    "import matplotlib.pyplot as plt\n",
    "\n",
    "# x axis values\n",
    "x = [0,1,2,3,4]\n",
    "# corresponding y axis values\n",
    "y = [0,1,2,3,4]\n",
    "\n",
    "# plotting the points\n",
    "plt.plot(x, y, marker='')\n",
    "\n",
    "# naming the x axis\n",
    "plt.xlabel('F', loc='right')\n",
    "# naming the y axis\n",
    "plt.ylabel('a')\n",
    "\n",
    "# giving a title to my graph\n",
    "plt.title('')\n",
    "\n",
    "#axis limits\n",
    "plt.xlim(-2, 4)\n",
    "plt.ylim(-2, 6)\n",
    "\n",
    "plt.grid(linestyle = '--', linewidth = 0.5)\n",
    "\n",
    "xorigem_ver = [0, 0]\n",
    "yorigem_ver = [-2, 6]\n",
    "plt.plot(xorigem_ver, yorigem_ver, marker='', color='green', linestyle=\"--\")\n",
    "\n",
    "xorigem_hor = [-2, 6]\n",
    "yorigem_hor = [0, 0]\n",
    "plt.plot(xorigem_hor, yorigem_hor, marker='', color='green', linestyle=\"--\")\n",
    "\n",
    "plt.tick_params(left=True,\n",
    "                bottom=True,\n",
    "                labelleft=False,\n",
    "                labelbottom=False)\n",
    "\n",
    "# function to show the plot\n",
    "plt.show()"
   ]
  },
  {
   "cell_type": "markdown",
   "metadata": {},
   "source": [
    "## 3. Primeira Lei de Newton\n",
    "\n",
    "## 4. Terceira Lei de Newton\n"
   ]
  }
 ],
 "metadata": {
  "kernelspec": {
   "display_name": "Python 3.10.2 64-bit",
   "language": "python",
   "name": "python3"
  },
  "language_info": {
   "codemirror_mode": {
    "name": "ipython",
    "version": 3
   },
   "file_extension": ".py",
   "mimetype": "text/x-python",
   "name": "python",
   "nbconvert_exporter": "python",
   "pygments_lexer": "ipython3",
   "version": "3.10.2"
  },
  "orig_nbformat": 4,
  "vscode": {
   "interpreter": {
    "hash": "369f2c481f4da34e4445cda3fffd2e751bd1c4d706f27375911949ba6bb62e1c"
   }
  }
 },
 "nbformat": 4,
 "nbformat_minor": 2
}
