{
 "cells": [
  {
   "cell_type": "markdown",
   "metadata": {},
   "source": [
    "# CAPÍTULO 6. Dinâmica I (Leis de Newton)\n",
    "\n",
    "## 1. Introdução\n",
    "No capítulo 4, que tratava sobre Cinemática, iniciamos o estudo do movimento. Naquele momento explicamos que o ramo da Física que estuda o movimento é a Mecânica e ele se compõe da Cinemática e da **Dinâmica**. Neste capítulo, portanto, estudamos a parte que falta para entender completamente o fenômeno do movimento.\n",
    "\n",
    "Novamente, igual que fizemos ao introduzir a Cinemática, devemos simplificar conceitos para facilitar a abordagem. A Dinâmica que estudaremos será a chamada Dinâmica Translacional Clássica da Partícula, na qual também devemos tratar aos corpos como se fossem pontos para assim evitar a rotação e, como consequência, apenas abordaremos a translação desses corpos pontuais.\n",
    "\n",
    "Dinâmica provém da palavra grega *dinamo*, a qual tem a ver com explosão. Efetivamente, a Dinâmica estuda como o movimento 'explode', no sentido em como ele é gerado. Essa questão é fundamental, mas até agora não tínhamos resposta. Isso foi devido a que a Cinemática não responde quem gerou o movimento nem o por quê. A tarefa neste capítulo será responder a essas questões que faltam para descrever completamente o movimento.\n",
    "\n",
    "Como agora sabemos, o movimento se divide em dois: o começo (Dinâmica) e o desenvolvimento (Cinemática), áreas que efetivamente se estudam de maneira independente. Entretanto, nessa explosão do movimento, alguma informação deve ser extraída para que, a partir, o movimento se desenvolva ao longo do tempo. Essa informação está embutida na aceleração. A aceleração é, de fato, o nexo de união entre ambas as áreas, a Cinemática e a Dinâmica.\n",
    "\n",
    "As grandezas físicas que estudávamos em Cinemática eram, principalmente, o tempo, a posição, a velocidade e a aceleração. Agora, em Dinâmica, além da aceleração, emergem duas novas grandezas físicas: a **massa** e a **força**, a partir de uma expressão fundamental conhecida como **Segunda Lei de Newton**.\n",
    "\n",
    "Em Cinemática definíamos duas grandezas físicas principais: o tempo e a posição, e o resto eram derivadas dessas a partir de operações matemáticas simples como subtrações e divisões, ou a partir de operações matemáticas mais complexas como a derivada ou a integral. Todo o arcabouço da Cinemática foi construída dessa maneira. Agora, faremos algo parecido, só que, ao invés de partir de definições de grandezas físicas, partiremos da Segunda Lei de Newton. E, a partir da mesma, usando ela como base, será construída toda a Dinâmica através de, agora sim, ferramentas lógicas.\n",
    "\n",
    "Curiosamente, a Segunda Lei de Newton não é uma expressão racional, no sentido em que não pode ser deduzida a partir da lógica. A Segunda Lei de Newton é uma expressão empirista, pois ela é deduzida a partir da experiência. Isso é devido a que, como veremos, o conceito de força que usaremos surge a partir de uma média das interações dadas por um número enorme de partículas (átomos ou moléculas) das quais os corpos macroscópicos envolvidos se compõem. E, quando isso acontece, no momento em que ao invés de tratar com partículas puntuais sem nenhuma natureza interna (definição de ponto matemático tal e como foi usado em Cinemática), tratamos de partículas reais (átomos ou moléculas) a pureza e rigor matemático, que a priori sempre existe, se dilui no caos. É partir daí, onde a lógica matemática não é tão útil quanto o são nossos sentidos.\n",
    "\n",
    "A Segunda Lei de Newton é a equação mais importante de Dinâmica. Entretanto, ela não a única. De fato, os pilares de Dinâmica estão baseados em três leis: a Primeira, a Segunda e a Terceira Lei de Newton. Cada Lei trata de um assunto diferente e independente, o qual não é consequência da Lei anterior. Então, é só por motivos históricos, que as tais leis foram enumeradas dessa maneira. Entretanto, apenas para facilitar a abordagem da Dinâmica, trataremos primeiro a Segunda Lei e posteriormente as outras duas.\n",
    "\n",
    "## 2. Segunda Lei de Newton\n",
    "A Segunda Lei de Newton vem dada pela seguinte expressão:\n",
    "\n",
    "$$\\boxed{\\tag{*}\\Sigma \\vec{F} = m \\cdot \\vec{a}}$$\n",
    "\n",
    "onde $\\Sigma \\vec{F}$ é a resultante, ou soma, das forças que atuam num corpo de massa $m$, as quais lhe produzem uma aceleração $\\vec{a}$.\n",
    "\n",
    "A Segunda Lei é uma equação causal porque estabelece uma relação entre uma causa: a soma das forças que atuam no corpo, e uma consequência: a aceleração que o corpo experimenta. Ela também é uma equação vetorial e, portanto, não é só uma equação de números (módulos), mas também de direções e sentidos. De fato, se a massa tivesse valor unidade (1kg), a segunda Lei de Newton simplificaria a:\n",
    "\n",
    "$$\\Sigma \\vec{F} = a$$\n",
    "\n",
    "e, nesse caso, a aceleração que o corpo sofreria seria igual à força resultante em módulo, direção e sentido. É muito lógico que isso aconteça, pois por experiência sabemos que o corpo se move (acelera) para o lugar para onde ele é empurrado.\n",
    "\n",
    "Isso também acontece no caso geral onde o valor da massa é diferente de um, pois como vimos no capítulo sobre vetores, multiplicar um escalar por um vetor, neste caso, só resulta numa mudança do módulo, já que no existem massas negativas. Sendo assim, multiplicar a massa pelo vetor $\\vec{a}$ só resulta em esticar o vetor aceleração (quando $m>1$) ou em reduzi-lo (quando $m<1$).\n",
    "\n",
    "Como também sabemos, todo vetor pode ser colocado em função das suas componentes. Ou seja, no caso de um arranjo em 2D, a Segunda Lei também poderia ser escrita assim:\n",
    "\n",
    "$$\\tag{*}\\Sigma \\vec{F_x} + \\Sigma \\vec{F_y} = m \\cdot (\\vec{a_x} + \\vec{a_y})$$\n",
    "\n",
    "ou, em consequência:\n",
    "\n",
    "$$\\tag{*}\\Sigma F_x\\hat{i} + \\Sigma F_y\\hat{j} = m \\cdot (a_x\\hat{i} + a_y\\hat{j})$$\n",
    "\n",
    "E, finalmente, podemos transformar essa equação vetorial em duas equações escalares linearmente independentes. Para isso, multiplicamos essa equação pelo vetor unitário $\\vec{i}$ e, por outro lado, pelo vetor unitário $\\hat{j}$. Como resultado obtemos que:\n",
    "\n",
    "$$\\boxed{\\tag{*}\\Sigma F_x = m \\cdot a_x}$$\n",
    "\n",
    "$$\\boxed{\\tag{*}\\Sigma F_y = m \\cdot a_y}$$\n",
    "\n",
    "### 2.1 Conceito de Força\n",
    "\n",
    "### 2.2. Conceito de massa\n",
    "\n",
    "## 3. Primeira Lei de Newton\n",
    "\n",
    "## 4. Terceira Lei de Newton\n"
   ]
  },
  {
   "cell_type": "markdown",
   "metadata": {},
   "source": []
  }
 ],
 "metadata": {
  "kernelspec": {
   "display_name": "Python 3.10.2 64-bit",
   "language": "python",
   "name": "python3"
  },
  "language_info": {
   "name": "python",
   "version": "3.10.2"
  },
  "orig_nbformat": 4,
  "vscode": {
   "interpreter": {
    "hash": "369f2c481f4da34e4445cda3fffd2e751bd1c4d706f27375911949ba6bb62e1c"
   }
  }
 },
 "nbformat": 4,
 "nbformat_minor": 2
}
