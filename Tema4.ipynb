{
 "cells": [
  {
   "cell_type": "markdown",
   "metadata": {},
   "source": [
    "# TEMA 4: Cinemática em uma dimensão."
   ]
  },
  {
   "cell_type": "markdown",
   "metadata": {},
   "source": [
    "### 1. Introdução\n",
    "Neste capítulo começamos a estudar o problema fundamental da Física: o estudo do movimento. O ramo da Física encarregado de analisar o movimento se chama **Mecânica**, a qual por sua vez está dividida em dois subramos: a **cinemática**, objeto de nosso estudo neste capítulo, e a **dinâmica**, a qual estudaremos posteriormente.\n",
    "\n",
    "A cinemática consiste em estudar o movimento dos corpos, mas sem se importar com quem gerou o movimento nem o por quê, já que estas perguntas se enquadram no ramo da **dinâmica**, a qual envolve o estudo das forças e como elas geram acelerações. Sendo assim, a cinemática pretende estudar como acontece o movimento uma vez que ele já começou.\n",
    "\n",
    "A Física que tratamos neste curso de Física Geral é a denominada como **Mecânica Clássica**, a qual trata com corpos que não se movem com velocidades próximas à velocidade da luz, em cujo caso aconteceria um fenômeno relativista (**Mecânica Relativista**) conhecido como dilação do tempo. Ou seja, a altas velocidades, próximas à velocidade da luz, o tempo dependeria do movimento relativo dos corpos.\n",
    "\n",
    "### 2. Definições\n",
    "\n",
    "\n",
    "#### 2.1 Tempo\n",
    "A palavra cinemática provem do grego *kinema*, da qual se derivam outras palavras como cinema. De fato, na Cinemática que estuderemos devemos entender o tempo como algo bem mais simples que na Mecânica Relativista. Em Cinemática Clássica o tempo é \n",
    "\n",
    "#### 2.2 Posição \n",
    "A palav"
   ]
  },
  {
   "cell_type": "markdown",
   "metadata": {},
   "source": []
  }
 ],
 "metadata": {
  "kernelspec": {
   "display_name": "Python 3.10.2 64-bit",
   "language": "python",
   "name": "python3"
  },
  "language_info": {
   "codemirror_mode": {
    "name": "ipython",
    "version": 3
   },
   "file_extension": ".py",
   "mimetype": "text/x-python",
   "name": "python",
   "nbconvert_exporter": "python",
   "pygments_lexer": "ipython3",
   "version": "3.10.2"
  },
  "orig_nbformat": 4,
  "vscode": {
   "interpreter": {
    "hash": "369f2c481f4da34e4445cda3fffd2e751bd1c4d706f27375911949ba6bb62e1c"
   }
  }
 },
 "nbformat": 4,
 "nbformat_minor": 2
}
