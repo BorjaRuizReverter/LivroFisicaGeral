{
 "cells": [
  {
   "cell_type": "markdown",
   "metadata": {},
   "source": [
    "# TEMA 4: Cinemática em uma dimensão."
   ]
  },
  {
   "cell_type": "markdown",
   "metadata": {},
   "source": [
    "### 1. Introdução\n",
    "Neste capítulo começamos a estudar o problema fundamental da Física: o estudo do movimento. O ramo da Física encarregado de analisar o movimento se chama **Mecânica**, a qual por sua vez está dividida em dois subramos: a **cinemática**, objeto de nosso estudo neste capítulo, e a **dinâmica**, a qual estudaremos posteriormente.\n",
    "\n",
    "A cinemática consiste em estudar o movimento dos corpos, mas sem se importar com quem gerou o movimento nem o por quê, já que estas perguntas se enquadram no ramo da **dinâmica**, a qual envolve o estudo das forças e como elas geram acelerações. Sendo assim, a cinemática pretende estudar como acontece o movimento uma vez que ele já começou.\n",
    "\n",
    "A Física que tratamos neste curso de Física Geral é a denominada como **Mecânica Clássica**, a qual trata com corpos que não se movem com velocidades próximas à velocidade da luz, em cujo caso aconteceria um fenômeno relativista (**Mecânica Relativista**) conhecido como dilação do tempo. Ou seja, a altas velocidades, próximas à velocidade da luz, o tempo dependeria do movimento relativo dos corpos.\n",
    "\n",
    "Este capítulo se intitula Cinemática em uma dimensão porque apenas estudaremos o movimento ao longo de uma linha reta. Alias, o que estudaremos aqui será o chamado **Movimento Retilíneo**. É claro que esse não é o movimento mais geral que existe. De fato, o movimento mais geral é o movimento ao longo do espaço de 3 dimensões no qual moramos. Os movimentos ao longo de duas dimensões, como o tiro parabólico, também são muito importantes em Física. Porém, para ambos se torna necessário usar e entender os vetores. Os vetores, porém, serão estudados nos próximos capítulos. Entretanto, o foco deste livro é estudar, literalmente, a Física Geral, sem entrar em todos os detalhes, neste caso, da Cinemática.\n",
    "\n",
    "O movimento de um corpo no espaço pode ser dividido em dois:\n",
    "1. Um **movimento de translação** do chamado **centro de massas**. Isto é, um movimento de translação de um ponto muito particular, no qual se concentra a massa toda do corpo.\n",
    "2. Um **movimento de rotação** do corpo ao redor de um eixo que passa pelo centro de massas.\n",
    "\n",
    "Estes dois movimentos podem, e devem, ser estudados separadamente. Novamente, nosso propósito é estudar uma Física Geral, dentro da qual o movimento rotacional está fora do escopo. Nosso foco, portanto, será o estudo da chamada **cinemática translacional**, ou seja, o estudo do movimento de um ponto. Para tratar tal movimento devemos introduzir o conceito de **partícula**. Para nós todos os corpos serão partículas, no sentido em que essa a aproximação física a um ponto matemático porque os pontos não rotam, apenas se transladam. Essa aproximação faz sentido quando o corpo, mesmo que seja um corpo extenso, é visto de longe.\n",
    "\n",
    "Resumindo, portanto, todas as premisas anteriores, podemos confirmar que o que será estudado neste capítulo seria algo que poderiamos denominar \"Cinemática translacional classica da partícula\".\n",
    "\n",
    "### 2. Definições\n",
    "O conhecimento científico é construido usando a razão e os sentidos, alias, a lógica e a experiência. A lógica é baseada na matemática. E a maneira de construir tal arquebouço é a partir das definições. Usamos então definições de grandezas físicas que façam sentido para, a partir dai, construir as ferramentas necessárias para, finalmente, poder estudar o movimento.\n",
    "\n",
    "#### 2.1 Tempo\n",
    "A palavra cinemática provem do grego *kinema*, da qual se derivam outras palavras como cinema. De fato, na Cinemática Clássica o movimento é entendido como uma sequência de fotogramas, como se de um filme se tratasse. Nessa sequência, o conceito de tempo é análogo à ideia habitual que temos do tempo. Alias, um contador, ou um relógio, que avança ininturruptamente e independentemente do observador. O tempo não pode ser controlado. Por isso, em Cinemática sempre será a varíavel independente. O resto das grandezas físicas que definiremos a seguir, que atuaram como funções, serão dependentes do tempo.\n",
    "\n",
    "O tempo se denota habitualmente pela letra $t$ minúscula e no Sistema Internacional de Unidades é medida em segundos ($s$).\n",
    "\n",
    "#### 2.2 Referencial ou origem de coordenadas\n",
    "Para estudar o movimento em uma dimensão não é necessário usar os vetores. Entretanto, exceto o tempo, todas as grandezas físicas que iremos definir a seguir, são realmente vetores.\n",
    "\n",
    "Devido a isso, se torna necessário usar o chamado **referencial**, ou **origem de coordenadas**, pois esse será o que em Matemáticas se denomina **base vetorial**. Como a palavra já diz, uma base vetorial é a base, a partir da qual todos os vetores do espaço vectorial podem ser construidos. Uma base vetorial tem que ser formada pelos chamados **vetores unitários**, pois através de uma combinação linear dos mesmos geramos qualquer vetor possível. Entretanto, podemos por enquanto não apronfundar tanto nesse sentido. Com uma base vetorial que confirme para onde é o sentido positivo do eixo horizontal (**eixo X**) e o sentido positivo do eixo vertical (**eixo Y**) será suficiente por enquanto. Esse portanto será nosso referencial: um novo plano cartesiano, só que agora usado não para representar funções, se não para representar a chamada **trajétoria**, ou seja, a coleção do pontos do espaço por onde o corpo passa. E como apenas cabe estudarmos o movimento unidimensional, a pesar de que habitualmente colocaremos esses dois eixos **X** e **Y**, apenas usaremos um deles para o movimento.\n",
    "\n",
    "\n",
    "\n",
    "#### 2.3 Posição \n"
   ]
  },
  {
   "cell_type": "markdown",
   "metadata": {},
   "source": []
  }
 ],
 "metadata": {
  "kernelspec": {
   "display_name": "Python 3.10.2 64-bit",
   "language": "python",
   "name": "python3"
  },
  "language_info": {
   "codemirror_mode": {
    "name": "ipython",
    "version": 3
   },
   "file_extension": ".py",
   "mimetype": "text/x-python",
   "name": "python",
   "nbconvert_exporter": "python",
   "pygments_lexer": "ipython3",
   "version": "3.10.2"
  },
  "orig_nbformat": 4,
  "vscode": {
   "interpreter": {
    "hash": "369f2c481f4da34e4445cda3fffd2e751bd1c4d706f27375911949ba6bb62e1c"
   }
  }
 },
 "nbformat": 4,
 "nbformat_minor": 2
}
