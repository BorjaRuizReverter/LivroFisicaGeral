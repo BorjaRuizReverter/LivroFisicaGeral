{
 "cells": [
  {
   "cell_type": "markdown",
   "metadata": {},
   "source": [
    "# TEMA 1: Grandezas físicas e unidades. Notação científica e álgebra de notações científicas\n",
    "---"
   ]
  },
  {
   "cell_type": "markdown",
   "metadata": {},
   "source": [
    "### 1.1 O que é a Física?\n",
    "A física é uma ciência experimental. Toda ciência experimental consiste na observação e ao observar basicamente estamos compararando: compararando as propriedades de um objeto desconhecido com as mesmas propriedades de um objeto conhecido. "
   ]
  },
  {
   "cell_type": "markdown",
   "metadata": {},
   "source": [
    "### 1.2 Qualis. Que comparamos?\n",
    "Faça o seguinte exercicio! Escolha qualquier objeto ao se ao redor e pense quais são as qualidades que ele tem. Dentre estas qualidades, claramente, estão, por exemplo, sua altura ou espessura, seu volume, sua massa, seu peso, sua temperatura... Existem inúmeras qualidades. Vamos, pense em mais uma!\n",
    "\n",
    "SOLUÇÃO\n",
    "\n",
    "Estas propriedades qualitativas são chamadas **Grandezas Físicas** e elas são um dos pilares da Física. De fato, um dos propósitos da Física consiste em estabelecer relações entre grandezas físicas fáceis de medir com outras dificeis de medir. Estas relações são as temidas equações."
   ]
  },
  {
   "cell_type": "markdown",
   "metadata": {},
   "source": [
    "### 1.3 Quantis. Como comparamos?\n",
    "Muito bem. Já sabemos que para medir precisamos comparar as mesmas propriedades qualitativas. Por exemplo, comparar qual massa de dois objetos é maior ou quais dos objetos possui uma temperatura menor. Sabemos por tanto o que comparar: propriedades qualitativas iguais. Mas não sabemos o como.\n",
    "\n",
    "Imagine que você vai tranquilamente andando na rua da sua cidade e um carro dirigido por um motorista perdido pregunta para você onde se encontra a farmacia mais próxima. Uma resposta típica poderia ser esta: \"Continue dirigindo durante três quadras\". Nessa resposta, você está implicitamente explicando para o motorista uma distância desconhecida para ele em termos de uma distância conhecida ou fácil de reconhecer: uma quadra. A distância conhecida usada (quadra) seria o que em Física se conhece como padrão e os padrões são os outros pilares da Física.\n",
    "\n",
    "Antes de continuar com certeza terá reparado que o padrão específico usado (quadra) está implicitamente associado a uma única grandeza física: comprimento. Mas poderiamos ter associado outro padrão diferente: quilometros, jardas, milhas, polegadas, pés,... Tipicamente, poderemos associar muitos padrões diferentes a uma grandeza física, mas nunca um unico padrão a varias grandezas físicas."
   ]
  },
  {
   "cell_type": "markdown",
   "metadata": {},
   "source": [
    "### 1.4 Sistemas de Unidades\n",
    "O padrão \"quadra\" usado para medir comprimentos/distâncias pode até ser útil em cidades norte e sul americanas por terem desenhos quadriculados. Porem, não é tão bom padrão em cidades europeias. O fato de que um padrão seja útil em alguns casos porem inutil em outros não é conveniente as vezes. \n",
    "\n",
    "Existem de fato muitos padrões, porem uns são mais adequados que outros. Os melhores padrões são aqueles que satisfazem 3 requisitos:\n",
    "* Universais ou, de outro ponto de vista, que não mudem no espaço\n",
    "* Invariáveis ou, de outro ponto de vista, que não mudem no tempo\n",
    "* Facilmente reproduziveis \n",
    "\n",
    "Se um padrão satisfaz estes requisitos ele pode ser incorporado dentro do que se conhece como um **sistema de unidades**, o qual possui certa estructura. "
   ]
  },
  {
   "cell_type": "markdown",
   "metadata": {},
   "source": [
    "#### 1.4.1 Grandezas Físicas Fundamentais\n",
    "O sistema de unidades mais usado tem o nome de **Sistema Internacional de Unidades**, o qual é formado por 7 unidades fundamentais junto com suas 7 **grandezas físicas fundamentais** associadas. Na tabela 1 aparecem as 7 grandezas físicas fundamentais, junto com suas unidades.\n",
    "\n",
    "Table: This is a caption\n",
    "\n",
    "| Grandeza Física  | Simbolo   | Unidade   | Simbolo  |\n",
    "| :--------------: | :-------: | :-------: | :------: |\n",
    "| Tempo | t | segundo | s |\n",
    "| Comprimento | l, r, x, y, z, ... [^note] | metro | m |\n",
    "| Massa | m | quilograma | kg|\n",
    "| Temperatura | T | kelvin | K |\n",
    "| Quantidade de materia | n | mol | mol |\n",
    "| Intensidade de corrente elétrica | i | ampere | A |\n",
    "| Intensidade luminosa | I<sub>v</sub> | cândela | cd |\n",
    "\n",
    "\n",
    "[^note]: nose"
   ]
  },
  {
   "cell_type": "markdown",
   "metadata": {},
   "source": [
    "As 7 unidades fundamentais do sistema internacional são como as 7 notas musicais básicas. Misturando cada uma delas com outra, ou ainda com elas mesmas, podemos construir a música da Física."
   ]
  },
  {
   "cell_type": "markdown",
   "metadata": {},
   "source": [
    "\n",
    "\\begin{centered}\n",
    "![image](https://upload.wikimedia.org/wikipedia/commons/3/38/SI_base_units.svg \"Unidades Fundamentais no Sistema Internacional\"){width=50px}"
   ]
  },
  {
   "cell_type": "markdown",
   "metadata": {},
   "source": [
    "#### 1.4.2 Grandezas Físicas Derivadas\n",
    "O resto das unidades e suas grandezas físicas associadas se construem a partir destas 7 e por isso chamam-se unidades derivadas que vão associadas a suas respectivas **grandezas físicas derivadas**. Existem muitas possíveis combinações. Na tabela 2 aparecem algumas delas.\n",
    "\n",
    "| Grandeza Física  | Simbolo   | Unidade   | Simbolo  |\n",
    "| :--------------: | :-------: | :-------: | :------: |\n",
    "| Superficie | A | metros ao quadrado | m<sup>2</sup> m$^2$|\n",
    "| Volume | V | metros ao cubo | m<sup>3</sup> |\n",
    "| Velocidade | v | metros sobre segundos | m/s |\n",
    "| Aceleração | a | metros sobre segundos ao quadrado | m/s<sup>2</sup> |\n",
    "| Força | F | newton | N = kg m/s<sup>2</sup> |\n",
    "| Energia | E | joule | J = N m = kg m<sup>2</sup>/s<sup>2</sup> |\n",
    "| Pressão | p | pascal | Pa = N/m<sup>2</sup> = kg/m s<sup>2</sup> |\n",
    "\n",
    "Table: This is a caption"
   ]
  },
  {
   "cell_type": "markdown",
   "metadata": {},
   "source": [
    "#### 1.4.3 Curiosidades\n",
    "Depois de ter conhecido as 7 unidades fundamentais do Sistema Internacional algumas perguntas deveriam surgir espontaneamente. Por que escolher 7 unidades e não, por exemplo, 5? Por que escolher, por exemplo, o quilograma ao invés do grama?\n",
    "\n",
    "A resposta da primeira pergunta é que 7 unidades seria o conjunto mínimo que abrange o máximo. De fato, este conjunto de 7 unidades (ou seus grandezas físicas correspondentes) poderia ser dividido a sua vez em 4 subconjuntos, os quais abragem todos os campos fundamentais da Física:\n",
    "* Subconjunto 1 (Tempo, comprimento e massa): Particulares da Mecânica (Cinemática e Dinâmica)\n",
    "* Subconjunto 2 (Temperatura e quantidade de materia): Particulares da Química\n",
    "* Subconjunto 3 (Intensidade de corrente elétrica): Particular do Eletromagnetismo\n",
    "* Subconjunto 4 (Intensidade luminosa): Particular da Óptica\n",
    "\n",
    "A resposta para a segunda pergunta é que o Sistema Internacional usa unidades que são habituais e cómodas para nós. Por exemplo, resulta mais sintético dizer que nossa massa é 70 kg ao invés de 70 000 g (gramas)."
   ]
  },
  {
   "cell_type": "markdown",
   "metadata": {},
   "source": [
    "#### 1.4.4 Outros sistemas de unidades"
   ]
  },
  {
   "cell_type": "markdown",
   "metadata": {},
   "source": [
    "Em qualquer caso, usar kg ao invés de g, a pesar de ser mais cómoda a primera unidade do que a segunda, é simplesmente um acordo/convenção;\n"
   ]
  },
  {
   "cell_type": "code",
   "execution_count": null,
   "metadata": {},
   "outputs": [],
   "source": []
  },
  {
   "cell_type": "code",
   "execution_count": 1,
   "metadata": {},
   "outputs": [
    {
     "name": "stdout",
     "output_type": "stream",
     "text": [
      " Exemplo prático: O dono de um mercado comprou quatro caixas de manteiga contendo 44 unidades cada. Sabendo que cada pote contem 284g de manteiga, qual o peso de cada caixa em quilogramas?12.496 :  12\n"
     ]
    },
    {
     "name": "stdout",
     "output_type": "stream",
     "text": [
      "Você errou.\n"
     ]
    }
   ],
   "source": [
    "from random import *\n",
    "import math\n",
    "def truncate(number, digits) -> float:\n",
    "    stepper = 10.0 ** digits\n",
    "    return math.trunc(stepper * number) / stepper\n",
    "num1 = randrange(2, 101, 2)\n",
    "num2 = randrange(2, 701, 2)\n",
    "resultado = (((num1 * num2 *4)/1000)/4)\n",
    "\n",
    "\n",
    "\n",
    "pergunta = float(input(f' Exemplo prático: O dono de um mercado comprou quatro caixas de manteiga contendo {num1} unidades cada. Sabendo que cada pote contem {num2}g de manteiga, qual o peso de cada caixa em quilogramas?{resultado} : '))\n",
    "if pergunta == resultado :\n",
    "      print ('você acertou.')\n",
    "else:\n",
    "      print ('Você errou.')"
   ]
  },
  {
   "cell_type": "markdown",
   "metadata": {},
   "source": [
    "<span style=\"color:red\">HORBERLAN! Fiquei por aqui... Então, se trata de continuar por aqui. Nesse apartado 1.4.4 explico sobre outros sistemas de unidades. A ideia seria criar exemplos, primeiro teoricos, que expliquem como tranformar unidades. Para isso podemos usar latex dentro Python (chunks). Depois de exemplo teorico colocariamos exemplos práticos (de repente de 3 niveis de dificultade) que apareçam de maneira aleatoria. Dessa maneira o aluno pode ficar interagindo e avançando de nível.</span>.\n",
    "\n",
    "Na hora de criar uma célula, veja se ele é Markdown ou Code. Isso muda todo!\n",
    "\n"
   ]
  }
 ],
 "metadata": {
  "kernelspec": {
   "display_name": "Python 3.10.2 64-bit",
   "language": "python",
   "name": "python3"
  },
  "language_info": {
   "codemirror_mode": {
    "name": "ipython",
    "version": 3
   },
   "file_extension": ".py",
   "mimetype": "text/x-python",
   "name": "python",
   "nbconvert_exporter": "python",
   "pygments_lexer": "ipython3",
   "version": "3.10.2"
  },
  "vscode": {
   "interpreter": {
    "hash": "369f2c481f4da34e4445cda3fffd2e751bd1c4d706f27375911949ba6bb62e1c"
   }
  }
 },
 "nbformat": 4,
 "nbformat_minor": 2
}
